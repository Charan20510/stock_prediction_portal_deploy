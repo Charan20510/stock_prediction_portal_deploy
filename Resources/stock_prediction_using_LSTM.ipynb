{
 "cells": [
  {
   "cell_type": "code",
   "execution_count": 32,
   "id": "d9a680e9-5b8d-46ee-8b73-ef78056f4d69",
   "metadata": {},
   "outputs": [],
   "source": [
    "import numpy as np\n",
    "import pandas as pd\n",
    "import matplotlib.pyplot as plt\n",
    "import yfinance as yf\n",
    "from datetime import datetime"
   ]
  },
  {
   "cell_type": "code",
   "execution_count": null,
   "id": "c34974b3-7573-43bd-b715-c9085ea5002d",
   "metadata": {},
   "outputs": [],
   "source": []
  },
  {
   "cell_type": "markdown",
   "id": "6a50c3ca-1ff6-4974-a9e2-08310ded89ed",
   "metadata": {},
   "source": [
    "# 1. Data Collection"
   ]
  },
  {
   "cell_type": "code",
   "execution_count": 33,
   "id": "526d13af-db07-4f43-b47e-dad3a6f9504f",
   "metadata": {},
   "outputs": [
    {
     "name": "stderr",
     "output_type": "stream",
     "text": [
      "[*********************100%***********************]  1 of 1 completed\n"
     ]
    },
    {
     "data": {
      "text/html": [
       "<div>\n",
       "<style scoped>\n",
       "    .dataframe tbody tr th:only-of-type {\n",
       "        vertical-align: middle;\n",
       "    }\n",
       "\n",
       "    .dataframe tbody tr th {\n",
       "        vertical-align: top;\n",
       "    }\n",
       "\n",
       "    .dataframe thead tr th {\n",
       "        text-align: left;\n",
       "    }\n",
       "\n",
       "    .dataframe thead tr:last-of-type th {\n",
       "        text-align: right;\n",
       "    }\n",
       "</style>\n",
       "<table border=\"1\" class=\"dataframe\">\n",
       "  <thead>\n",
       "    <tr>\n",
       "      <th>Price</th>\n",
       "      <th>Close</th>\n",
       "      <th>High</th>\n",
       "      <th>Low</th>\n",
       "      <th>Open</th>\n",
       "      <th>Volume</th>\n",
       "    </tr>\n",
       "    <tr>\n",
       "      <th>Ticker</th>\n",
       "      <th>AAPL</th>\n",
       "      <th>AAPL</th>\n",
       "      <th>AAPL</th>\n",
       "      <th>AAPL</th>\n",
       "      <th>AAPL</th>\n",
       "    </tr>\n",
       "    <tr>\n",
       "      <th>Date</th>\n",
       "      <th></th>\n",
       "      <th></th>\n",
       "      <th></th>\n",
       "      <th></th>\n",
       "      <th></th>\n",
       "    </tr>\n",
       "  </thead>\n",
       "  <tbody>\n",
       "    <tr>\n",
       "      <th>2015-07-06</th>\n",
       "      <td>28.219824</td>\n",
       "      <td>28.271337</td>\n",
       "      <td>27.962262</td>\n",
       "      <td>27.982420</td>\n",
       "      <td>112241600</td>\n",
       "    </tr>\n",
       "    <tr>\n",
       "      <th>2015-07-07</th>\n",
       "      <td>28.150393</td>\n",
       "      <td>28.253417</td>\n",
       "      <td>27.720375</td>\n",
       "      <td>28.195185</td>\n",
       "      <td>187787200</td>\n",
       "    </tr>\n",
       "    <tr>\n",
       "      <th>2015-07-08</th>\n",
       "      <td>27.451614</td>\n",
       "      <td>27.915226</td>\n",
       "      <td>27.444896</td>\n",
       "      <td>27.879392</td>\n",
       "      <td>243046400</td>\n",
       "    </tr>\n",
       "    <tr>\n",
       "      <th>2015-07-09</th>\n",
       "      <td>26.891697</td>\n",
       "      <td>27.785324</td>\n",
       "      <td>26.701325</td>\n",
       "      <td>27.738291</td>\n",
       "      <td>314380000</td>\n",
       "    </tr>\n",
       "    <tr>\n",
       "      <th>2015-07-10</th>\n",
       "      <td>27.610634</td>\n",
       "      <td>27.738295</td>\n",
       "      <td>27.147023</td>\n",
       "      <td>27.310519</td>\n",
       "      <td>245418000</td>\n",
       "    </tr>\n",
       "    <tr>\n",
       "      <th>...</th>\n",
       "      <td>...</td>\n",
       "      <td>...</td>\n",
       "      <td>...</td>\n",
       "      <td>...</td>\n",
       "      <td>...</td>\n",
       "    </tr>\n",
       "    <tr>\n",
       "      <th>2025-06-27</th>\n",
       "      <td>201.080002</td>\n",
       "      <td>203.220001</td>\n",
       "      <td>200.000000</td>\n",
       "      <td>201.889999</td>\n",
       "      <td>73188600</td>\n",
       "    </tr>\n",
       "    <tr>\n",
       "      <th>2025-06-30</th>\n",
       "      <td>205.169998</td>\n",
       "      <td>207.389999</td>\n",
       "      <td>199.259995</td>\n",
       "      <td>202.009995</td>\n",
       "      <td>91912800</td>\n",
       "    </tr>\n",
       "    <tr>\n",
       "      <th>2025-07-01</th>\n",
       "      <td>207.820007</td>\n",
       "      <td>210.190002</td>\n",
       "      <td>206.139999</td>\n",
       "      <td>206.669998</td>\n",
       "      <td>78788900</td>\n",
       "    </tr>\n",
       "    <tr>\n",
       "      <th>2025-07-02</th>\n",
       "      <td>212.440002</td>\n",
       "      <td>213.339996</td>\n",
       "      <td>208.139999</td>\n",
       "      <td>208.910004</td>\n",
       "      <td>67893400</td>\n",
       "    </tr>\n",
       "    <tr>\n",
       "      <th>2025-07-03</th>\n",
       "      <td>213.266205</td>\n",
       "      <td>213.789993</td>\n",
       "      <td>211.810104</td>\n",
       "      <td>212.145004</td>\n",
       "      <td>8045298</td>\n",
       "    </tr>\n",
       "  </tbody>\n",
       "</table>\n",
       "<p>2515 rows × 5 columns</p>\n",
       "</div>"
      ],
      "text/plain": [
       "Price            Close        High         Low        Open     Volume\n",
       "Ticker            AAPL        AAPL        AAPL        AAPL       AAPL\n",
       "Date                                                                 \n",
       "2015-07-06   28.219824   28.271337   27.962262   27.982420  112241600\n",
       "2015-07-07   28.150393   28.253417   27.720375   28.195185  187787200\n",
       "2015-07-08   27.451614   27.915226   27.444896   27.879392  243046400\n",
       "2015-07-09   26.891697   27.785324   26.701325   27.738291  314380000\n",
       "2015-07-10   27.610634   27.738295   27.147023   27.310519  245418000\n",
       "...                ...         ...         ...         ...        ...\n",
       "2025-06-27  201.080002  203.220001  200.000000  201.889999   73188600\n",
       "2025-06-30  205.169998  207.389999  199.259995  202.009995   91912800\n",
       "2025-07-01  207.820007  210.190002  206.139999  206.669998   78788900\n",
       "2025-07-02  212.440002  213.339996  208.139999  208.910004   67893400\n",
       "2025-07-03  213.266205  213.789993  211.810104  212.145004    8045298\n",
       "\n",
       "[2515 rows x 5 columns]"
      ]
     },
     "execution_count": 33,
     "metadata": {},
     "output_type": "execute_result"
    }
   ],
   "source": [
    "now = datetime.now()\n",
    "\n",
    "start = datetime(now.year-10, now.month, now.day)\n",
    "end = now\n",
    "ticker = 'AAPL'\n",
    "df = yf.download(ticker, start, end, auto_adjust=True)\n",
    "df"
   ]
  },
  {
   "cell_type": "code",
   "execution_count": 34,
   "id": "604e4b92-0453-4fbc-ad47-70c249200360",
   "metadata": {},
   "outputs": [
    {
     "data": {
      "text/html": [
       "<div>\n",
       "<style scoped>\n",
       "    .dataframe tbody tr th:only-of-type {\n",
       "        vertical-align: middle;\n",
       "    }\n",
       "\n",
       "    .dataframe tbody tr th {\n",
       "        vertical-align: top;\n",
       "    }\n",
       "\n",
       "    .dataframe thead tr th {\n",
       "        text-align: left;\n",
       "    }\n",
       "\n",
       "    .dataframe thead tr:last-of-type th {\n",
       "        text-align: right;\n",
       "    }\n",
       "</style>\n",
       "<table border=\"1\" class=\"dataframe\">\n",
       "  <thead>\n",
       "    <tr>\n",
       "      <th>Price</th>\n",
       "      <th>Close</th>\n",
       "      <th>High</th>\n",
       "      <th>Low</th>\n",
       "      <th>Open</th>\n",
       "      <th>Volume</th>\n",
       "    </tr>\n",
       "    <tr>\n",
       "      <th>Ticker</th>\n",
       "      <th>AAPL</th>\n",
       "      <th>AAPL</th>\n",
       "      <th>AAPL</th>\n",
       "      <th>AAPL</th>\n",
       "      <th>AAPL</th>\n",
       "    </tr>\n",
       "    <tr>\n",
       "      <th>Date</th>\n",
       "      <th></th>\n",
       "      <th></th>\n",
       "      <th></th>\n",
       "      <th></th>\n",
       "      <th></th>\n",
       "    </tr>\n",
       "  </thead>\n",
       "  <tbody>\n",
       "    <tr>\n",
       "      <th>2015-07-06</th>\n",
       "      <td>28.219824</td>\n",
       "      <td>28.271337</td>\n",
       "      <td>27.962262</td>\n",
       "      <td>27.982420</td>\n",
       "      <td>112241600</td>\n",
       "    </tr>\n",
       "    <tr>\n",
       "      <th>2015-07-07</th>\n",
       "      <td>28.150393</td>\n",
       "      <td>28.253417</td>\n",
       "      <td>27.720375</td>\n",
       "      <td>28.195185</td>\n",
       "      <td>187787200</td>\n",
       "    </tr>\n",
       "    <tr>\n",
       "      <th>2015-07-08</th>\n",
       "      <td>27.451614</td>\n",
       "      <td>27.915226</td>\n",
       "      <td>27.444896</td>\n",
       "      <td>27.879392</td>\n",
       "      <td>243046400</td>\n",
       "    </tr>\n",
       "    <tr>\n",
       "      <th>2015-07-09</th>\n",
       "      <td>26.891697</td>\n",
       "      <td>27.785324</td>\n",
       "      <td>26.701325</td>\n",
       "      <td>27.738291</td>\n",
       "      <td>314380000</td>\n",
       "    </tr>\n",
       "    <tr>\n",
       "      <th>2015-07-10</th>\n",
       "      <td>27.610634</td>\n",
       "      <td>27.738295</td>\n",
       "      <td>27.147023</td>\n",
       "      <td>27.310519</td>\n",
       "      <td>245418000</td>\n",
       "    </tr>\n",
       "  </tbody>\n",
       "</table>\n",
       "</div>"
      ],
      "text/plain": [
       "Price           Close       High        Low       Open     Volume\n",
       "Ticker           AAPL       AAPL       AAPL       AAPL       AAPL\n",
       "Date                                                             \n",
       "2015-07-06  28.219824  28.271337  27.962262  27.982420  112241600\n",
       "2015-07-07  28.150393  28.253417  27.720375  28.195185  187787200\n",
       "2015-07-08  27.451614  27.915226  27.444896  27.879392  243046400\n",
       "2015-07-09  26.891697  27.785324  26.701325  27.738291  314380000\n",
       "2015-07-10  27.610634  27.738295  27.147023  27.310519  245418000"
      ]
     },
     "execution_count": 34,
     "metadata": {},
     "output_type": "execute_result"
    }
   ],
   "source": [
    "df.head()"
   ]
  },
  {
   "cell_type": "code",
   "execution_count": 35,
   "id": "745bcba2-aa2e-44b2-960b-88f1eaab9d54",
   "metadata": {},
   "outputs": [
    {
     "data": {
      "text/html": [
       "<div>\n",
       "<style scoped>\n",
       "    .dataframe tbody tr th:only-of-type {\n",
       "        vertical-align: middle;\n",
       "    }\n",
       "\n",
       "    .dataframe tbody tr th {\n",
       "        vertical-align: top;\n",
       "    }\n",
       "\n",
       "    .dataframe thead tr th {\n",
       "        text-align: left;\n",
       "    }\n",
       "\n",
       "    .dataframe thead tr:last-of-type th {\n",
       "        text-align: right;\n",
       "    }\n",
       "</style>\n",
       "<table border=\"1\" class=\"dataframe\">\n",
       "  <thead>\n",
       "    <tr>\n",
       "      <th>Price</th>\n",
       "      <th>Close</th>\n",
       "      <th>High</th>\n",
       "      <th>Low</th>\n",
       "      <th>Open</th>\n",
       "      <th>Volume</th>\n",
       "    </tr>\n",
       "    <tr>\n",
       "      <th>Ticker</th>\n",
       "      <th>AAPL</th>\n",
       "      <th>AAPL</th>\n",
       "      <th>AAPL</th>\n",
       "      <th>AAPL</th>\n",
       "      <th>AAPL</th>\n",
       "    </tr>\n",
       "    <tr>\n",
       "      <th>Date</th>\n",
       "      <th></th>\n",
       "      <th></th>\n",
       "      <th></th>\n",
       "      <th></th>\n",
       "      <th></th>\n",
       "    </tr>\n",
       "  </thead>\n",
       "  <tbody>\n",
       "    <tr>\n",
       "      <th>2025-06-27</th>\n",
       "      <td>201.080002</td>\n",
       "      <td>203.220001</td>\n",
       "      <td>200.000000</td>\n",
       "      <td>201.889999</td>\n",
       "      <td>73188600</td>\n",
       "    </tr>\n",
       "    <tr>\n",
       "      <th>2025-06-30</th>\n",
       "      <td>205.169998</td>\n",
       "      <td>207.389999</td>\n",
       "      <td>199.259995</td>\n",
       "      <td>202.009995</td>\n",
       "      <td>91912800</td>\n",
       "    </tr>\n",
       "    <tr>\n",
       "      <th>2025-07-01</th>\n",
       "      <td>207.820007</td>\n",
       "      <td>210.190002</td>\n",
       "      <td>206.139999</td>\n",
       "      <td>206.669998</td>\n",
       "      <td>78788900</td>\n",
       "    </tr>\n",
       "    <tr>\n",
       "      <th>2025-07-02</th>\n",
       "      <td>212.440002</td>\n",
       "      <td>213.339996</td>\n",
       "      <td>208.139999</td>\n",
       "      <td>208.910004</td>\n",
       "      <td>67893400</td>\n",
       "    </tr>\n",
       "    <tr>\n",
       "      <th>2025-07-03</th>\n",
       "      <td>213.266205</td>\n",
       "      <td>213.789993</td>\n",
       "      <td>211.810104</td>\n",
       "      <td>212.145004</td>\n",
       "      <td>8045298</td>\n",
       "    </tr>\n",
       "  </tbody>\n",
       "</table>\n",
       "</div>"
      ],
      "text/plain": [
       "Price            Close        High         Low        Open    Volume\n",
       "Ticker            AAPL        AAPL        AAPL        AAPL      AAPL\n",
       "Date                                                                \n",
       "2025-06-27  201.080002  203.220001  200.000000  201.889999  73188600\n",
       "2025-06-30  205.169998  207.389999  199.259995  202.009995  91912800\n",
       "2025-07-01  207.820007  210.190002  206.139999  206.669998  78788900\n",
       "2025-07-02  212.440002  213.339996  208.139999  208.910004  67893400\n",
       "2025-07-03  213.266205  213.789993  211.810104  212.145004   8045298"
      ]
     },
     "execution_count": 35,
     "metadata": {},
     "output_type": "execute_result"
    }
   ],
   "source": [
    "df.tail()"
   ]
  },
  {
   "cell_type": "code",
   "execution_count": null,
   "id": "3992084b-4b1d-4bf6-9975-73df91574cd5",
   "metadata": {},
   "outputs": [],
   "source": []
  },
  {
   "cell_type": "markdown",
   "id": "61b00e60-0d0d-499f-a5a1-55a8b7ab398c",
   "metadata": {},
   "source": [
    "# 2. Data Exploration & Visualization"
   ]
  },
  {
   "cell_type": "code",
   "execution_count": 36,
   "id": "9c2c7530-fc12-40e8-b0ab-60c4ee42f214",
   "metadata": {},
   "outputs": [
    {
     "data": {
      "text/html": [
       "<div>\n",
       "<style scoped>\n",
       "    .dataframe tbody tr th:only-of-type {\n",
       "        vertical-align: middle;\n",
       "    }\n",
       "\n",
       "    .dataframe tbody tr th {\n",
       "        vertical-align: top;\n",
       "    }\n",
       "\n",
       "    .dataframe thead tr th {\n",
       "        text-align: left;\n",
       "    }\n",
       "\n",
       "    .dataframe thead tr:last-of-type th {\n",
       "        text-align: right;\n",
       "    }\n",
       "</style>\n",
       "<table border=\"1\" class=\"dataframe\">\n",
       "  <thead>\n",
       "    <tr>\n",
       "      <th>Price</th>\n",
       "      <th>Close</th>\n",
       "      <th>High</th>\n",
       "      <th>Low</th>\n",
       "      <th>Open</th>\n",
       "      <th>Volume</th>\n",
       "    </tr>\n",
       "    <tr>\n",
       "      <th>Ticker</th>\n",
       "      <th>AAPL</th>\n",
       "      <th>AAPL</th>\n",
       "      <th>AAPL</th>\n",
       "      <th>AAPL</th>\n",
       "      <th>AAPL</th>\n",
       "    </tr>\n",
       "    <tr>\n",
       "      <th>Date</th>\n",
       "      <th></th>\n",
       "      <th></th>\n",
       "      <th></th>\n",
       "      <th></th>\n",
       "      <th></th>\n",
       "    </tr>\n",
       "  </thead>\n",
       "  <tbody>\n",
       "    <tr>\n",
       "      <th>2015-07-06</th>\n",
       "      <td>28.219824</td>\n",
       "      <td>28.271337</td>\n",
       "      <td>27.962262</td>\n",
       "      <td>27.982420</td>\n",
       "      <td>112241600</td>\n",
       "    </tr>\n",
       "    <tr>\n",
       "      <th>2015-07-07</th>\n",
       "      <td>28.150393</td>\n",
       "      <td>28.253417</td>\n",
       "      <td>27.720375</td>\n",
       "      <td>28.195185</td>\n",
       "      <td>187787200</td>\n",
       "    </tr>\n",
       "    <tr>\n",
       "      <th>2015-07-08</th>\n",
       "      <td>27.451614</td>\n",
       "      <td>27.915226</td>\n",
       "      <td>27.444896</td>\n",
       "      <td>27.879392</td>\n",
       "      <td>243046400</td>\n",
       "    </tr>\n",
       "    <tr>\n",
       "      <th>2015-07-09</th>\n",
       "      <td>26.891697</td>\n",
       "      <td>27.785324</td>\n",
       "      <td>26.701325</td>\n",
       "      <td>27.738291</td>\n",
       "      <td>314380000</td>\n",
       "    </tr>\n",
       "    <tr>\n",
       "      <th>2015-07-10</th>\n",
       "      <td>27.610634</td>\n",
       "      <td>27.738295</td>\n",
       "      <td>27.147023</td>\n",
       "      <td>27.310519</td>\n",
       "      <td>245418000</td>\n",
       "    </tr>\n",
       "    <tr>\n",
       "      <th>...</th>\n",
       "      <td>...</td>\n",
       "      <td>...</td>\n",
       "      <td>...</td>\n",
       "      <td>...</td>\n",
       "      <td>...</td>\n",
       "    </tr>\n",
       "    <tr>\n",
       "      <th>2025-06-27</th>\n",
       "      <td>201.080002</td>\n",
       "      <td>203.220001</td>\n",
       "      <td>200.000000</td>\n",
       "      <td>201.889999</td>\n",
       "      <td>73188600</td>\n",
       "    </tr>\n",
       "    <tr>\n",
       "      <th>2025-06-30</th>\n",
       "      <td>205.169998</td>\n",
       "      <td>207.389999</td>\n",
       "      <td>199.259995</td>\n",
       "      <td>202.009995</td>\n",
       "      <td>91912800</td>\n",
       "    </tr>\n",
       "    <tr>\n",
       "      <th>2025-07-01</th>\n",
       "      <td>207.820007</td>\n",
       "      <td>210.190002</td>\n",
       "      <td>206.139999</td>\n",
       "      <td>206.669998</td>\n",
       "      <td>78788900</td>\n",
       "    </tr>\n",
       "    <tr>\n",
       "      <th>2025-07-02</th>\n",
       "      <td>212.440002</td>\n",
       "      <td>213.339996</td>\n",
       "      <td>208.139999</td>\n",
       "      <td>208.910004</td>\n",
       "      <td>67893400</td>\n",
       "    </tr>\n",
       "    <tr>\n",
       "      <th>2025-07-03</th>\n",
       "      <td>213.266205</td>\n",
       "      <td>213.789993</td>\n",
       "      <td>211.810104</td>\n",
       "      <td>212.145004</td>\n",
       "      <td>8045298</td>\n",
       "    </tr>\n",
       "  </tbody>\n",
       "</table>\n",
       "<p>2515 rows × 5 columns</p>\n",
       "</div>"
      ],
      "text/plain": [
       "Price            Close        High         Low        Open     Volume\n",
       "Ticker            AAPL        AAPL        AAPL        AAPL       AAPL\n",
       "Date                                                                 \n",
       "2015-07-06   28.219824   28.271337   27.962262   27.982420  112241600\n",
       "2015-07-07   28.150393   28.253417   27.720375   28.195185  187787200\n",
       "2015-07-08   27.451614   27.915226   27.444896   27.879392  243046400\n",
       "2015-07-09   26.891697   27.785324   26.701325   27.738291  314380000\n",
       "2015-07-10   27.610634   27.738295   27.147023   27.310519  245418000\n",
       "...                ...         ...         ...         ...        ...\n",
       "2025-06-27  201.080002  203.220001  200.000000  201.889999   73188600\n",
       "2025-06-30  205.169998  207.389999  199.259995  202.009995   91912800\n",
       "2025-07-01  207.820007  210.190002  206.139999  206.669998   78788900\n",
       "2025-07-02  212.440002  213.339996  208.139999  208.910004   67893400\n",
       "2025-07-03  213.266205  213.789993  211.810104  212.145004    8045298\n",
       "\n",
       "[2515 rows x 5 columns]"
      ]
     },
     "execution_count": 36,
     "metadata": {},
     "output_type": "execute_result"
    }
   ],
   "source": [
    "df"
   ]
  },
  {
   "cell_type": "code",
   "execution_count": 37,
   "id": "77a91477-c895-463d-b49d-7110aab738b1",
   "metadata": {},
   "outputs": [
    {
     "data": {
      "text/plain": [
       "pandas.core.frame.DataFrame"
      ]
     },
     "execution_count": 37,
     "metadata": {},
     "output_type": "execute_result"
    }
   ],
   "source": [
    "type(df)"
   ]
  },
  {
   "cell_type": "code",
   "execution_count": 38,
   "id": "6bee42c4-081d-4c01-9a9e-a409c246bb68",
   "metadata": {},
   "outputs": [
    {
     "data": {
      "text/plain": [
       "(2515, 5)"
      ]
     },
     "execution_count": 38,
     "metadata": {},
     "output_type": "execute_result"
    }
   ],
   "source": [
    "df.shape"
   ]
  },
  {
   "cell_type": "code",
   "execution_count": 39,
   "id": "1f601dc5-e5e9-435c-9d18-6fd2b10af077",
   "metadata": {},
   "outputs": [
    {
     "data": {
      "text/plain": [
       "Price   Ticker\n",
       "Close   AAPL      0\n",
       "High    AAPL      0\n",
       "Low     AAPL      0\n",
       "Open    AAPL      0\n",
       "Volume  AAPL      0\n",
       "dtype: int64"
      ]
     },
     "execution_count": 39,
     "metadata": {},
     "output_type": "execute_result"
    }
   ],
   "source": [
    "df.isna().sum()"
   ]
  },
  {
   "cell_type": "code",
   "execution_count": 40,
   "id": "c61cdd63-39d9-4728-9790-ecfdf116ecea",
   "metadata": {},
   "outputs": [
    {
     "data": {
      "text/html": [
       "<div>\n",
       "<style scoped>\n",
       "    .dataframe tbody tr th:only-of-type {\n",
       "        vertical-align: middle;\n",
       "    }\n",
       "\n",
       "    .dataframe tbody tr th {\n",
       "        vertical-align: top;\n",
       "    }\n",
       "\n",
       "    .dataframe thead tr th {\n",
       "        text-align: left;\n",
       "    }\n",
       "</style>\n",
       "<table border=\"1\" class=\"dataframe\">\n",
       "  <thead>\n",
       "    <tr>\n",
       "      <th>Price</th>\n",
       "      <th>Close</th>\n",
       "      <th>High</th>\n",
       "      <th>Low</th>\n",
       "      <th>Open</th>\n",
       "      <th>Volume</th>\n",
       "    </tr>\n",
       "    <tr>\n",
       "      <th>Ticker</th>\n",
       "      <th>AAPL</th>\n",
       "      <th>AAPL</th>\n",
       "      <th>AAPL</th>\n",
       "      <th>AAPL</th>\n",
       "      <th>AAPL</th>\n",
       "    </tr>\n",
       "  </thead>\n",
       "  <tbody>\n",
       "    <tr>\n",
       "      <th>count</th>\n",
       "      <td>2515.000000</td>\n",
       "      <td>2515.000000</td>\n",
       "      <td>2515.000000</td>\n",
       "      <td>2515.000000</td>\n",
       "      <td>2.515000e+03</td>\n",
       "    </tr>\n",
       "    <tr>\n",
       "      <th>mean</th>\n",
       "      <td>103.446963</td>\n",
       "      <td>104.484123</td>\n",
       "      <td>102.294869</td>\n",
       "      <td>103.345437</td>\n",
       "      <td>1.097249e+08</td>\n",
       "    </tr>\n",
       "    <tr>\n",
       "      <th>std</th>\n",
       "      <td>68.920712</td>\n",
       "      <td>69.594612</td>\n",
       "      <td>68.153004</td>\n",
       "      <td>68.840549</td>\n",
       "      <td>6.447504e+07</td>\n",
       "    </tr>\n",
       "    <tr>\n",
       "      <th>min</th>\n",
       "      <td>20.647465</td>\n",
       "      <td>20.951437</td>\n",
       "      <td>20.448625</td>\n",
       "      <td>20.569754</td>\n",
       "      <td>8.045298e+06</td>\n",
       "    </tr>\n",
       "    <tr>\n",
       "      <th>25%</th>\n",
       "      <td>39.006397</td>\n",
       "      <td>39.446431</td>\n",
       "      <td>38.573282</td>\n",
       "      <td>38.958074</td>\n",
       "      <td>6.683560e+07</td>\n",
       "    </tr>\n",
       "    <tr>\n",
       "      <th>50%</th>\n",
       "      <td>88.662422</td>\n",
       "      <td>90.030610</td>\n",
       "      <td>88.037864</td>\n",
       "      <td>88.701323</td>\n",
       "      <td>9.432680e+07</td>\n",
       "    </tr>\n",
       "    <tr>\n",
       "      <th>75%</th>\n",
       "      <td>163.690948</td>\n",
       "      <td>165.827447</td>\n",
       "      <td>162.411985</td>\n",
       "      <td>163.950082</td>\n",
       "      <td>1.335778e+08</td>\n",
       "    </tr>\n",
       "    <tr>\n",
       "      <th>max</th>\n",
       "      <td>258.396667</td>\n",
       "      <td>259.474086</td>\n",
       "      <td>257.010028</td>\n",
       "      <td>257.568678</td>\n",
       "      <td>6.488252e+08</td>\n",
       "    </tr>\n",
       "  </tbody>\n",
       "</table>\n",
       "</div>"
      ],
      "text/plain": [
       "Price         Close         High          Low         Open        Volume\n",
       "Ticker         AAPL         AAPL         AAPL         AAPL          AAPL\n",
       "count   2515.000000  2515.000000  2515.000000  2515.000000  2.515000e+03\n",
       "mean     103.446963   104.484123   102.294869   103.345437  1.097249e+08\n",
       "std       68.920712    69.594612    68.153004    68.840549  6.447504e+07\n",
       "min       20.647465    20.951437    20.448625    20.569754  8.045298e+06\n",
       "25%       39.006397    39.446431    38.573282    38.958074  6.683560e+07\n",
       "50%       88.662422    90.030610    88.037864    88.701323  9.432680e+07\n",
       "75%      163.690948   165.827447   162.411985   163.950082  1.335778e+08\n",
       "max      258.396667   259.474086   257.010028   257.568678  6.488252e+08"
      ]
     },
     "execution_count": 40,
     "metadata": {},
     "output_type": "execute_result"
    }
   ],
   "source": [
    "df.describe()"
   ]
  },
  {
   "cell_type": "code",
   "execution_count": 41,
   "id": "45ecd6d4-4d9f-499c-965d-4f2f6d3bfeb1",
   "metadata": {},
   "outputs": [
    {
     "data": {
      "text/plain": [
       "Price   Ticker\n",
       "Close   AAPL      float64\n",
       "High    AAPL      float64\n",
       "Low     AAPL      float64\n",
       "Open    AAPL      float64\n",
       "Volume  AAPL        int64\n",
       "dtype: object"
      ]
     },
     "execution_count": 41,
     "metadata": {},
     "output_type": "execute_result"
    }
   ],
   "source": [
    "df.dtypes"
   ]
  },
  {
   "cell_type": "code",
   "execution_count": 42,
   "id": "fceb362d-c504-4bb0-bf3b-ebe65e89b9ed",
   "metadata": {},
   "outputs": [
    {
     "data": {
      "text/html": [
       "<div>\n",
       "<style scoped>\n",
       "    .dataframe tbody tr th:only-of-type {\n",
       "        vertical-align: middle;\n",
       "    }\n",
       "\n",
       "    .dataframe tbody tr th {\n",
       "        vertical-align: top;\n",
       "    }\n",
       "\n",
       "    .dataframe thead tr th {\n",
       "        text-align: left;\n",
       "    }\n",
       "\n",
       "    .dataframe thead tr:last-of-type th {\n",
       "        text-align: right;\n",
       "    }\n",
       "</style>\n",
       "<table border=\"1\" class=\"dataframe\">\n",
       "  <thead>\n",
       "    <tr>\n",
       "      <th>Price</th>\n",
       "      <th>Close</th>\n",
       "      <th>High</th>\n",
       "      <th>Low</th>\n",
       "      <th>Open</th>\n",
       "      <th>Volume</th>\n",
       "    </tr>\n",
       "    <tr>\n",
       "      <th>Ticker</th>\n",
       "      <th>AAPL</th>\n",
       "      <th>AAPL</th>\n",
       "      <th>AAPL</th>\n",
       "      <th>AAPL</th>\n",
       "      <th>AAPL</th>\n",
       "    </tr>\n",
       "    <tr>\n",
       "      <th>Date</th>\n",
       "      <th></th>\n",
       "      <th></th>\n",
       "      <th></th>\n",
       "      <th></th>\n",
       "      <th></th>\n",
       "    </tr>\n",
       "  </thead>\n",
       "  <tbody>\n",
       "    <tr>\n",
       "      <th>2015-07-06</th>\n",
       "      <td>28.219824</td>\n",
       "      <td>28.271337</td>\n",
       "      <td>27.962262</td>\n",
       "      <td>27.982420</td>\n",
       "      <td>112241600</td>\n",
       "    </tr>\n",
       "    <tr>\n",
       "      <th>2015-07-07</th>\n",
       "      <td>28.150393</td>\n",
       "      <td>28.253417</td>\n",
       "      <td>27.720375</td>\n",
       "      <td>28.195185</td>\n",
       "      <td>187787200</td>\n",
       "    </tr>\n",
       "    <tr>\n",
       "      <th>2015-07-08</th>\n",
       "      <td>27.451614</td>\n",
       "      <td>27.915226</td>\n",
       "      <td>27.444896</td>\n",
       "      <td>27.879392</td>\n",
       "      <td>243046400</td>\n",
       "    </tr>\n",
       "    <tr>\n",
       "      <th>2015-07-09</th>\n",
       "      <td>26.891697</td>\n",
       "      <td>27.785324</td>\n",
       "      <td>26.701325</td>\n",
       "      <td>27.738291</td>\n",
       "      <td>314380000</td>\n",
       "    </tr>\n",
       "    <tr>\n",
       "      <th>2015-07-10</th>\n",
       "      <td>27.610634</td>\n",
       "      <td>27.738295</td>\n",
       "      <td>27.147023</td>\n",
       "      <td>27.310519</td>\n",
       "      <td>245418000</td>\n",
       "    </tr>\n",
       "  </tbody>\n",
       "</table>\n",
       "</div>"
      ],
      "text/plain": [
       "Price           Close       High        Low       Open     Volume\n",
       "Ticker           AAPL       AAPL       AAPL       AAPL       AAPL\n",
       "Date                                                             \n",
       "2015-07-06  28.219824  28.271337  27.962262  27.982420  112241600\n",
       "2015-07-07  28.150393  28.253417  27.720375  28.195185  187787200\n",
       "2015-07-08  27.451614  27.915226  27.444896  27.879392  243046400\n",
       "2015-07-09  26.891697  27.785324  26.701325  27.738291  314380000\n",
       "2015-07-10  27.610634  27.738295  27.147023  27.310519  245418000"
      ]
     },
     "execution_count": 42,
     "metadata": {},
     "output_type": "execute_result"
    }
   ],
   "source": [
    "df.head()"
   ]
  },
  {
   "cell_type": "code",
   "execution_count": 43,
   "id": "0e4c89d7-6e94-48f9-b6a3-a30e9902db97",
   "metadata": {},
   "outputs": [],
   "source": [
    "df = df.reset_index()"
   ]
  },
  {
   "cell_type": "code",
   "execution_count": 44,
   "id": "15f47480-3f23-454f-a472-a21e4a7f1b40",
   "metadata": {},
   "outputs": [
    {
     "data": {
      "text/html": [
       "<div>\n",
       "<style scoped>\n",
       "    .dataframe tbody tr th:only-of-type {\n",
       "        vertical-align: middle;\n",
       "    }\n",
       "\n",
       "    .dataframe tbody tr th {\n",
       "        vertical-align: top;\n",
       "    }\n",
       "\n",
       "    .dataframe thead tr th {\n",
       "        text-align: left;\n",
       "    }\n",
       "</style>\n",
       "<table border=\"1\" class=\"dataframe\">\n",
       "  <thead>\n",
       "    <tr>\n",
       "      <th>Price</th>\n",
       "      <th>Date</th>\n",
       "      <th>Close</th>\n",
       "      <th>High</th>\n",
       "      <th>Low</th>\n",
       "      <th>Open</th>\n",
       "      <th>Volume</th>\n",
       "    </tr>\n",
       "    <tr>\n",
       "      <th>Ticker</th>\n",
       "      <th></th>\n",
       "      <th>AAPL</th>\n",
       "      <th>AAPL</th>\n",
       "      <th>AAPL</th>\n",
       "      <th>AAPL</th>\n",
       "      <th>AAPL</th>\n",
       "    </tr>\n",
       "  </thead>\n",
       "  <tbody>\n",
       "    <tr>\n",
       "      <th>0</th>\n",
       "      <td>2015-07-06</td>\n",
       "      <td>28.219824</td>\n",
       "      <td>28.271337</td>\n",
       "      <td>27.962262</td>\n",
       "      <td>27.982420</td>\n",
       "      <td>112241600</td>\n",
       "    </tr>\n",
       "    <tr>\n",
       "      <th>1</th>\n",
       "      <td>2015-07-07</td>\n",
       "      <td>28.150393</td>\n",
       "      <td>28.253417</td>\n",
       "      <td>27.720375</td>\n",
       "      <td>28.195185</td>\n",
       "      <td>187787200</td>\n",
       "    </tr>\n",
       "    <tr>\n",
       "      <th>2</th>\n",
       "      <td>2015-07-08</td>\n",
       "      <td>27.451614</td>\n",
       "      <td>27.915226</td>\n",
       "      <td>27.444896</td>\n",
       "      <td>27.879392</td>\n",
       "      <td>243046400</td>\n",
       "    </tr>\n",
       "    <tr>\n",
       "      <th>3</th>\n",
       "      <td>2015-07-09</td>\n",
       "      <td>26.891697</td>\n",
       "      <td>27.785324</td>\n",
       "      <td>26.701325</td>\n",
       "      <td>27.738291</td>\n",
       "      <td>314380000</td>\n",
       "    </tr>\n",
       "    <tr>\n",
       "      <th>4</th>\n",
       "      <td>2015-07-10</td>\n",
       "      <td>27.610634</td>\n",
       "      <td>27.738295</td>\n",
       "      <td>27.147023</td>\n",
       "      <td>27.310519</td>\n",
       "      <td>245418000</td>\n",
       "    </tr>\n",
       "  </tbody>\n",
       "</table>\n",
       "</div>"
      ],
      "text/plain": [
       "Price        Date      Close       High        Low       Open     Volume\n",
       "Ticker                  AAPL       AAPL       AAPL       AAPL       AAPL\n",
       "0      2015-07-06  28.219824  28.271337  27.962262  27.982420  112241600\n",
       "1      2015-07-07  28.150393  28.253417  27.720375  28.195185  187787200\n",
       "2      2015-07-08  27.451614  27.915226  27.444896  27.879392  243046400\n",
       "3      2015-07-09  26.891697  27.785324  26.701325  27.738291  314380000\n",
       "4      2015-07-10  27.610634  27.738295  27.147023  27.310519  245418000"
      ]
     },
     "execution_count": 44,
     "metadata": {},
     "output_type": "execute_result"
    }
   ],
   "source": [
    "df.head()"
   ]
  },
  {
   "cell_type": "code",
   "execution_count": null,
   "id": "71c54cc4-6107-445c-a8a3-01458ce04eb3",
   "metadata": {},
   "outputs": [],
   "source": []
  },
  {
   "cell_type": "code",
   "execution_count": 45,
   "id": "d54fae07-e9f5-4cdc-9941-1aa63fc2ea2d",
   "metadata": {},
   "outputs": [
    {
     "data": {
      "text/plain": [
       "Text(0, 0.5, 'Close price')"
      ]
     },
     "execution_count": 45,
     "metadata": {},
     "output_type": "execute_result"
    },
    {
     "data": {
      "image/png": "[encoded data removed]",
      "text/plain": [
       "<Figure size 1200x500 with 1 Axes>"
      ]
     },
     "metadata": {},
     "output_type": "display_data"
    }
   ],
   "source": [
    "plt.figure(figsize=(12, 5))\n",
    "plt.plot(df.Close)\n",
    "plt.title(ticker)\n",
    "plt.xlabel('Days')\n",
    "plt.ylabel('Close price')"
   ]
  },
  {
   "cell_type": "code",
   "execution_count": null,
   "id": "6e13baf0-b1e2-4c03-a522-5358de16f8c4",
   "metadata": {},
   "outputs": [],
   "source": []
  },
  {
   "cell_type": "markdown",
   "id": "00077e19-5b85-4af2-8817-ecc511a74f41",
   "metadata": {},
   "source": [
    "# 3. Feature Engineering"
   ]
  },
  {
   "cell_type": "code",
   "execution_count": 46,
   "id": "77ef9997-8fa2-46db-b7fa-31a72c85aa95",
   "metadata": {},
   "outputs": [],
   "source": [
    "# 10, 20, 30, 40, 50, 60, 70, 80, 90, 100\n",
    "\n",
    "# MA of 5 days ==> null null null null 30 40"
   ]
  },
  {
   "cell_type": "code",
   "execution_count": 47,
   "id": "fca4f085-0973-411e-a15d-d28e1bb0bffd",
   "metadata": {},
   "outputs": [
    {
     "name": "stdout",
     "output_type": "stream",
     "text": [
      "50.0\n"
     ]
    }
   ],
   "source": [
    "temp_df = [10, 20, 30, 40, 50, 60, 70, 80, 90, 100]\n",
    "print(sum(temp_df[2:7])/5)"
   ]
  },
  {
   "cell_type": "code",
   "execution_count": 48,
   "id": "df8498b9-0f50-431e-bd9f-c8a22aee32e1",
   "metadata": {},
   "outputs": [
    {
     "data": {
      "text/html": [
       "<div>\n",
       "<style scoped>\n",
       "    .dataframe tbody tr th:only-of-type {\n",
       "        vertical-align: middle;\n",
       "    }\n",
       "\n",
       "    .dataframe tbody tr th {\n",
       "        vertical-align: top;\n",
       "    }\n",
       "\n",
       "    .dataframe thead th {\n",
       "        text-align: right;\n",
       "    }\n",
       "</style>\n",
       "<table border=\"1\" class=\"dataframe\">\n",
       "  <thead>\n",
       "    <tr style=\"text-align: right;\">\n",
       "      <th></th>\n",
       "      <th>0</th>\n",
       "    </tr>\n",
       "  </thead>\n",
       "  <tbody>\n",
       "    <tr>\n",
       "      <th>0</th>\n",
       "      <td>10</td>\n",
       "    </tr>\n",
       "    <tr>\n",
       "      <th>1</th>\n",
       "      <td>20</td>\n",
       "    </tr>\n",
       "    <tr>\n",
       "      <th>2</th>\n",
       "      <td>30</td>\n",
       "    </tr>\n",
       "    <tr>\n",
       "      <th>3</th>\n",
       "      <td>40</td>\n",
       "    </tr>\n",
       "    <tr>\n",
       "      <th>4</th>\n",
       "      <td>50</td>\n",
       "    </tr>\n",
       "    <tr>\n",
       "      <th>5</th>\n",
       "      <td>60</td>\n",
       "    </tr>\n",
       "    <tr>\n",
       "      <th>6</th>\n",
       "      <td>70</td>\n",
       "    </tr>\n",
       "    <tr>\n",
       "      <th>7</th>\n",
       "      <td>80</td>\n",
       "    </tr>\n",
       "    <tr>\n",
       "      <th>8</th>\n",
       "      <td>90</td>\n",
       "    </tr>\n",
       "    <tr>\n",
       "      <th>9</th>\n",
       "      <td>100</td>\n",
       "    </tr>\n",
       "  </tbody>\n",
       "</table>\n",
       "</div>"
      ],
      "text/plain": [
       "     0\n",
       "0   10\n",
       "1   20\n",
       "2   30\n",
       "3   40\n",
       "4   50\n",
       "5   60\n",
       "6   70\n",
       "7   80\n",
       "8   90\n",
       "9  100"
      ]
     },
     "execution_count": 48,
     "metadata": {},
     "output_type": "execute_result"
    }
   ],
   "source": [
    "df1 = pd.DataFrame([10, 20, 30, 40, 50, 60, 70, 80, 90, 100])\n",
    "df1"
   ]
  },
  {
   "cell_type": "code",
   "execution_count": 49,
   "id": "6d071354-d194-4171-881d-bb9e566243b0",
   "metadata": {},
   "outputs": [
    {
     "data": {
      "text/html": [
       "<div>\n",
       "<style scoped>\n",
       "    .dataframe tbody tr th:only-of-type {\n",
       "        vertical-align: middle;\n",
       "    }\n",
       "\n",
       "    .dataframe tbody tr th {\n",
       "        vertical-align: top;\n",
       "    }\n",
       "\n",
       "    .dataframe thead th {\n",
       "        text-align: right;\n",
       "    }\n",
       "</style>\n",
       "<table border=\"1\" class=\"dataframe\">\n",
       "  <thead>\n",
       "    <tr style=\"text-align: right;\">\n",
       "      <th></th>\n",
       "      <th>0</th>\n",
       "      <th>MA_5</th>\n",
       "    </tr>\n",
       "  </thead>\n",
       "  <tbody>\n",
       "    <tr>\n",
       "      <th>0</th>\n",
       "      <td>10</td>\n",
       "      <td>NaN</td>\n",
       "    </tr>\n",
       "    <tr>\n",
       "      <th>1</th>\n",
       "      <td>20</td>\n",
       "      <td>NaN</td>\n",
       "    </tr>\n",
       "    <tr>\n",
       "      <th>2</th>\n",
       "      <td>30</td>\n",
       "      <td>NaN</td>\n",
       "    </tr>\n",
       "    <tr>\n",
       "      <th>3</th>\n",
       "      <td>40</td>\n",
       "      <td>NaN</td>\n",
       "    </tr>\n",
       "    <tr>\n",
       "      <th>4</th>\n",
       "      <td>50</td>\n",
       "      <td>30.0</td>\n",
       "    </tr>\n",
       "    <tr>\n",
       "      <th>5</th>\n",
       "      <td>60</td>\n",
       "      <td>40.0</td>\n",
       "    </tr>\n",
       "    <tr>\n",
       "      <th>6</th>\n",
       "      <td>70</td>\n",
       "      <td>50.0</td>\n",
       "    </tr>\n",
       "    <tr>\n",
       "      <th>7</th>\n",
       "      <td>80</td>\n",
       "      <td>60.0</td>\n",
       "    </tr>\n",
       "    <tr>\n",
       "      <th>8</th>\n",
       "      <td>90</td>\n",
       "      <td>70.0</td>\n",
       "    </tr>\n",
       "    <tr>\n",
       "      <th>9</th>\n",
       "      <td>100</td>\n",
       "      <td>80.0</td>\n",
       "    </tr>\n",
       "  </tbody>\n",
       "</table>\n",
       "</div>"
      ],
      "text/plain": [
       "     0  MA_5\n",
       "0   10   NaN\n",
       "1   20   NaN\n",
       "2   30   NaN\n",
       "3   40   NaN\n",
       "4   50  30.0\n",
       "5   60  40.0\n",
       "6   70  50.0\n",
       "7   80  60.0\n",
       "8   90  70.0\n",
       "9  100  80.0"
      ]
     },
     "execution_count": 49,
     "metadata": {},
     "output_type": "execute_result"
    }
   ],
   "source": [
    "df1['MA_5'] = df1.rolling(5).mean()\n",
    "df1"
   ]
  },
  {
   "cell_type": "code",
   "execution_count": null,
   "id": "52c3804c-8187-4935-9c2c-c53e96a78e69",
   "metadata": {},
   "outputs": [],
   "source": []
  },
  {
   "cell_type": "markdown",
   "id": "75fa071d-2fdd-4472-9920-32797380d758",
   "metadata": {},
   "source": [
    "### 100 days Moving Average"
   ]
  },
  {
   "cell_type": "code",
   "execution_count": 50,
   "id": "3bfca11c-c601-435a-bcb6-04a4ecb7e6f5",
   "metadata": {},
   "outputs": [
    {
     "data": {
      "text/html": [
       "<div>\n",
       "<style scoped>\n",
       "    .dataframe tbody tr th:only-of-type {\n",
       "        vertical-align: middle;\n",
       "    }\n",
       "\n",
       "    .dataframe tbody tr th {\n",
       "        vertical-align: top;\n",
       "    }\n",
       "\n",
       "    .dataframe thead tr th {\n",
       "        text-align: left;\n",
       "    }\n",
       "</style>\n",
       "<table border=\"1\" class=\"dataframe\">\n",
       "  <thead>\n",
       "    <tr>\n",
       "      <th>Price</th>\n",
       "      <th>Date</th>\n",
       "      <th>Close</th>\n",
       "      <th>High</th>\n",
       "      <th>Low</th>\n",
       "      <th>Open</th>\n",
       "      <th>Volume</th>\n",
       "      <th>MA_100</th>\n",
       "    </tr>\n",
       "    <tr>\n",
       "      <th>Ticker</th>\n",
       "      <th></th>\n",
       "      <th>AAPL</th>\n",
       "      <th>AAPL</th>\n",
       "      <th>AAPL</th>\n",
       "      <th>AAPL</th>\n",
       "      <th>AAPL</th>\n",
       "      <th></th>\n",
       "    </tr>\n",
       "  </thead>\n",
       "  <tbody>\n",
       "    <tr>\n",
       "      <th>0</th>\n",
       "      <td>2015-07-06</td>\n",
       "      <td>28.219824</td>\n",
       "      <td>28.271337</td>\n",
       "      <td>27.962262</td>\n",
       "      <td>27.982420</td>\n",
       "      <td>112241600</td>\n",
       "      <td>NaN</td>\n",
       "    </tr>\n",
       "    <tr>\n",
       "      <th>1</th>\n",
       "      <td>2015-07-07</td>\n",
       "      <td>28.150393</td>\n",
       "      <td>28.253417</td>\n",
       "      <td>27.720375</td>\n",
       "      <td>28.195185</td>\n",
       "      <td>187787200</td>\n",
       "      <td>NaN</td>\n",
       "    </tr>\n",
       "    <tr>\n",
       "      <th>2</th>\n",
       "      <td>2015-07-08</td>\n",
       "      <td>27.451614</td>\n",
       "      <td>27.915226</td>\n",
       "      <td>27.444896</td>\n",
       "      <td>27.879392</td>\n",
       "      <td>243046400</td>\n",
       "      <td>NaN</td>\n",
       "    </tr>\n",
       "    <tr>\n",
       "      <th>3</th>\n",
       "      <td>2015-07-09</td>\n",
       "      <td>26.891697</td>\n",
       "      <td>27.785324</td>\n",
       "      <td>26.701325</td>\n",
       "      <td>27.738291</td>\n",
       "      <td>314380000</td>\n",
       "      <td>NaN</td>\n",
       "    </tr>\n",
       "    <tr>\n",
       "      <th>4</th>\n",
       "      <td>2015-07-10</td>\n",
       "      <td>27.610634</td>\n",
       "      <td>27.738295</td>\n",
       "      <td>27.147023</td>\n",
       "      <td>27.310519</td>\n",
       "      <td>245418000</td>\n",
       "      <td>NaN</td>\n",
       "    </tr>\n",
       "  </tbody>\n",
       "</table>\n",
       "</div>"
      ],
      "text/plain": [
       "Price        Date      Close       High        Low       Open     Volume  \\\n",
       "Ticker                  AAPL       AAPL       AAPL       AAPL       AAPL   \n",
       "0      2015-07-06  28.219824  28.271337  27.962262  27.982420  112241600   \n",
       "1      2015-07-07  28.150393  28.253417  27.720375  28.195185  187787200   \n",
       "2      2015-07-08  27.451614  27.915226  27.444896  27.879392  243046400   \n",
       "3      2015-07-09  26.891697  27.785324  26.701325  27.738291  314380000   \n",
       "4      2015-07-10  27.610634  27.738295  27.147023  27.310519  245418000   \n",
       "\n",
       "Price  MA_100  \n",
       "Ticker         \n",
       "0         NaN  \n",
       "1         NaN  \n",
       "2         NaN  \n",
       "3         NaN  \n",
       "4         NaN  "
      ]
     },
     "execution_count": 50,
     "metadata": {},
     "output_type": "execute_result"
    }
   ],
   "source": [
    "df['MA_100'] = df.Close.rolling(100).mean()\n",
    "df.head()"
   ]
  },
  {
   "cell_type": "code",
   "execution_count": 51,
   "id": "3f74d9ec-253d-494b-9d48-c3dd50b05dbf",
   "metadata": {},
   "outputs": [
    {
     "data": {
      "text/html": [
       "<div>\n",
       "<style scoped>\n",
       "    .dataframe tbody tr th:only-of-type {\n",
       "        vertical-align: middle;\n",
       "    }\n",
       "\n",
       "    .dataframe tbody tr th {\n",
       "        vertical-align: top;\n",
       "    }\n",
       "\n",
       "    .dataframe thead tr th {\n",
       "        text-align: left;\n",
       "    }\n",
       "</style>\n",
       "<table border=\"1\" class=\"dataframe\">\n",
       "  <thead>\n",
       "    <tr>\n",
       "      <th>Price</th>\n",
       "      <th>Date</th>\n",
       "      <th>Close</th>\n",
       "      <th>High</th>\n",
       "      <th>Low</th>\n",
       "      <th>Open</th>\n",
       "      <th>Volume</th>\n",
       "      <th>MA_100</th>\n",
       "    </tr>\n",
       "    <tr>\n",
       "      <th>Ticker</th>\n",
       "      <th></th>\n",
       "      <th>AAPL</th>\n",
       "      <th>AAPL</th>\n",
       "      <th>AAPL</th>\n",
       "      <th>AAPL</th>\n",
       "      <th>AAPL</th>\n",
       "      <th></th>\n",
       "    </tr>\n",
       "  </thead>\n",
       "  <tbody>\n",
       "    <tr>\n",
       "      <th>0</th>\n",
       "      <td>2015-07-06</td>\n",
       "      <td>28.219824</td>\n",
       "      <td>28.271337</td>\n",
       "      <td>27.962262</td>\n",
       "      <td>27.982420</td>\n",
       "      <td>112241600</td>\n",
       "      <td>NaN</td>\n",
       "    </tr>\n",
       "    <tr>\n",
       "      <th>1</th>\n",
       "      <td>2015-07-07</td>\n",
       "      <td>28.150393</td>\n",
       "      <td>28.253417</td>\n",
       "      <td>27.720375</td>\n",
       "      <td>28.195185</td>\n",
       "      <td>187787200</td>\n",
       "      <td>NaN</td>\n",
       "    </tr>\n",
       "    <tr>\n",
       "      <th>2</th>\n",
       "      <td>2015-07-08</td>\n",
       "      <td>27.451614</td>\n",
       "      <td>27.915226</td>\n",
       "      <td>27.444896</td>\n",
       "      <td>27.879392</td>\n",
       "      <td>243046400</td>\n",
       "      <td>NaN</td>\n",
       "    </tr>\n",
       "    <tr>\n",
       "      <th>3</th>\n",
       "      <td>2015-07-09</td>\n",
       "      <td>26.891697</td>\n",
       "      <td>27.785324</td>\n",
       "      <td>26.701325</td>\n",
       "      <td>27.738291</td>\n",
       "      <td>314380000</td>\n",
       "      <td>NaN</td>\n",
       "    </tr>\n",
       "    <tr>\n",
       "      <th>4</th>\n",
       "      <td>2015-07-10</td>\n",
       "      <td>27.610634</td>\n",
       "      <td>27.738295</td>\n",
       "      <td>27.147023</td>\n",
       "      <td>27.310519</td>\n",
       "      <td>245418000</td>\n",
       "      <td>NaN</td>\n",
       "    </tr>\n",
       "    <tr>\n",
       "      <th>...</th>\n",
       "      <td>...</td>\n",
       "      <td>...</td>\n",
       "      <td>...</td>\n",
       "      <td>...</td>\n",
       "      <td>...</td>\n",
       "      <td>...</td>\n",
       "      <td>...</td>\n",
       "    </tr>\n",
       "    <tr>\n",
       "      <th>98</th>\n",
       "      <td>2015-11-20</td>\n",
       "      <td>26.955072</td>\n",
       "      <td>27.095156</td>\n",
       "      <td>26.853397</td>\n",
       "      <td>26.932477</td>\n",
       "      <td>137148400</td>\n",
       "      <td>NaN</td>\n",
       "    </tr>\n",
       "    <tr>\n",
       "      <th>99</th>\n",
       "      <td>2015-11-23</td>\n",
       "      <td>26.604862</td>\n",
       "      <td>27.052231</td>\n",
       "      <td>26.512224</td>\n",
       "      <td>26.948296</td>\n",
       "      <td>129930000</td>\n",
       "      <td>26.170196</td>\n",
       "    </tr>\n",
       "    <tr>\n",
       "      <th>100</th>\n",
       "      <td>2015-11-24</td>\n",
       "      <td>26.860182</td>\n",
       "      <td>26.966376</td>\n",
       "      <td>26.462522</td>\n",
       "      <td>26.509970</td>\n",
       "      <td>171212800</td>\n",
       "      <td>26.156599</td>\n",
       "    </tr>\n",
       "    <tr>\n",
       "      <th>101</th>\n",
       "      <td>2015-11-25</td>\n",
       "      <td>26.668125</td>\n",
       "      <td>26.939259</td>\n",
       "      <td>26.643271</td>\n",
       "      <td>26.934739</td>\n",
       "      <td>85553200</td>\n",
       "      <td>26.141776</td>\n",
       "    </tr>\n",
       "    <tr>\n",
       "      <th>102</th>\n",
       "      <td>2015-11-27</td>\n",
       "      <td>26.618418</td>\n",
       "      <td>26.753985</td>\n",
       "      <td>26.570970</td>\n",
       "      <td>26.726871</td>\n",
       "      <td>52185600</td>\n",
       "      <td>26.133444</td>\n",
       "    </tr>\n",
       "  </tbody>\n",
       "</table>\n",
       "<p>103 rows × 7 columns</p>\n",
       "</div>"
      ],
      "text/plain": [
       "Price        Date      Close       High        Low       Open     Volume  \\\n",
       "Ticker                  AAPL       AAPL       AAPL       AAPL       AAPL   \n",
       "0      2015-07-06  28.219824  28.271337  27.962262  27.982420  112241600   \n",
       "1      2015-07-07  28.150393  28.253417  27.720375  28.195185  187787200   \n",
       "2      2015-07-08  27.451614  27.915226  27.444896  27.879392  243046400   \n",
       "3      2015-07-09  26.891697  27.785324  26.701325  27.738291  314380000   \n",
       "4      2015-07-10  27.610634  27.738295  27.147023  27.310519  245418000   \n",
       "..            ...        ...        ...        ...        ...        ...   \n",
       "98     2015-11-20  26.955072  27.095156  26.853397  26.932477  137148400   \n",
       "99     2015-11-23  26.604862  27.052231  26.512224  26.948296  129930000   \n",
       "100    2015-11-24  26.860182  26.966376  26.462522  26.509970  171212800   \n",
       "101    2015-11-25  26.668125  26.939259  26.643271  26.934739   85553200   \n",
       "102    2015-11-27  26.618418  26.753985  26.570970  26.726871   52185600   \n",
       "\n",
       "Price      MA_100  \n",
       "Ticker             \n",
       "0             NaN  \n",
       "1             NaN  \n",
       "2             NaN  \n",
       "3             NaN  \n",
       "4             NaN  \n",
       "..            ...  \n",
       "98            NaN  \n",
       "99      26.170196  \n",
       "100     26.156599  \n",
       "101     26.141776  \n",
       "102     26.133444  \n",
       "\n",
       "[103 rows x 7 columns]"
      ]
     },
     "execution_count": 51,
     "metadata": {},
     "output_type": "execute_result"
    }
   ],
   "source": [
    "df.head(103)"
   ]
  },
  {
   "cell_type": "code",
   "execution_count": 52,
   "id": "7b622af7-7b9a-4c85-b0e3-fea67f8198ab",
   "metadata": {},
   "outputs": [
    {
     "data": {
      "text/plain": [
       "Text(0, 0.5, 'Price')"
      ]
     },
     "execution_count": 52,
     "metadata": {},
     "output_type": "execute_result"
    },
    {
     "data": {
      "image/png": "[encoded data removed]",
      "text/plain": [
       "<Figure size 1200x500 with 1 Axes>"
      ]
     },
     "metadata": {},
     "output_type": "display_data"
    }
   ],
   "source": [
    "plt.figure(figsize=(12, 5))\n",
    "plt.plot(df.Close)\n",
    "plt.plot(df['MA_100'], 'r')\n",
    "plt.title('100 Days Moving Average')\n",
    "plt.xlabel('Days')\n",
    "plt.ylabel('Price')"
   ]
  },
  {
   "cell_type": "markdown",
   "id": "50ec8881-1b21-4649-8363-176e7f894784",
   "metadata": {},
   "source": [
    "### 200 days Moving Average"
   ]
  },
  {
   "cell_type": "code",
   "execution_count": 53,
   "id": "9e9958f4-ab6a-4bd6-b449-82b3d4bb0a17",
   "metadata": {},
   "outputs": [
    {
     "data": {
      "text/html": [
       "<div>\n",
       "<style scoped>\n",
       "    .dataframe tbody tr th:only-of-type {\n",
       "        vertical-align: middle;\n",
       "    }\n",
       "\n",
       "    .dataframe tbody tr th {\n",
       "        vertical-align: top;\n",
       "    }\n",
       "\n",
       "    .dataframe thead tr th {\n",
       "        text-align: left;\n",
       "    }\n",
       "</style>\n",
       "<table border=\"1\" class=\"dataframe\">\n",
       "  <thead>\n",
       "    <tr>\n",
       "      <th>Price</th>\n",
       "      <th>Date</th>\n",
       "      <th>Close</th>\n",
       "      <th>High</th>\n",
       "      <th>Low</th>\n",
       "      <th>Open</th>\n",
       "      <th>Volume</th>\n",
       "      <th>MA_100</th>\n",
       "      <th>MA_200</th>\n",
       "    </tr>\n",
       "    <tr>\n",
       "      <th>Ticker</th>\n",
       "      <th></th>\n",
       "      <th>AAPL</th>\n",
       "      <th>AAPL</th>\n",
       "      <th>AAPL</th>\n",
       "      <th>AAPL</th>\n",
       "      <th>AAPL</th>\n",
       "      <th></th>\n",
       "      <th></th>\n",
       "    </tr>\n",
       "  </thead>\n",
       "  <tbody>\n",
       "    <tr>\n",
       "      <th>0</th>\n",
       "      <td>2015-07-06</td>\n",
       "      <td>28.219824</td>\n",
       "      <td>28.271337</td>\n",
       "      <td>27.962262</td>\n",
       "      <td>27.982420</td>\n",
       "      <td>112241600</td>\n",
       "      <td>NaN</td>\n",
       "      <td>NaN</td>\n",
       "    </tr>\n",
       "    <tr>\n",
       "      <th>1</th>\n",
       "      <td>2015-07-07</td>\n",
       "      <td>28.150393</td>\n",
       "      <td>28.253417</td>\n",
       "      <td>27.720375</td>\n",
       "      <td>28.195185</td>\n",
       "      <td>187787200</td>\n",
       "      <td>NaN</td>\n",
       "      <td>NaN</td>\n",
       "    </tr>\n",
       "    <tr>\n",
       "      <th>2</th>\n",
       "      <td>2015-07-08</td>\n",
       "      <td>27.451614</td>\n",
       "      <td>27.915226</td>\n",
       "      <td>27.444896</td>\n",
       "      <td>27.879392</td>\n",
       "      <td>243046400</td>\n",
       "      <td>NaN</td>\n",
       "      <td>NaN</td>\n",
       "    </tr>\n",
       "    <tr>\n",
       "      <th>3</th>\n",
       "      <td>2015-07-09</td>\n",
       "      <td>26.891697</td>\n",
       "      <td>27.785324</td>\n",
       "      <td>26.701325</td>\n",
       "      <td>27.738291</td>\n",
       "      <td>314380000</td>\n",
       "      <td>NaN</td>\n",
       "      <td>NaN</td>\n",
       "    </tr>\n",
       "    <tr>\n",
       "      <th>4</th>\n",
       "      <td>2015-07-10</td>\n",
       "      <td>27.610634</td>\n",
       "      <td>27.738295</td>\n",
       "      <td>27.147023</td>\n",
       "      <td>27.310519</td>\n",
       "      <td>245418000</td>\n",
       "      <td>NaN</td>\n",
       "      <td>NaN</td>\n",
       "    </tr>\n",
       "    <tr>\n",
       "      <th>...</th>\n",
       "      <td>...</td>\n",
       "      <td>...</td>\n",
       "      <td>...</td>\n",
       "      <td>...</td>\n",
       "      <td>...</td>\n",
       "      <td>...</td>\n",
       "      <td>...</td>\n",
       "      <td>...</td>\n",
       "    </tr>\n",
       "    <tr>\n",
       "      <th>198</th>\n",
       "      <td>2016-04-18</td>\n",
       "      <td>24.416201</td>\n",
       "      <td>24.750139</td>\n",
       "      <td>24.293529</td>\n",
       "      <td>24.736509</td>\n",
       "      <td>243286000</td>\n",
       "      <td>23.670244</td>\n",
       "      <td>NaN</td>\n",
       "    </tr>\n",
       "    <tr>\n",
       "      <th>199</th>\n",
       "      <td>2016-04-19</td>\n",
       "      <td>24.286711</td>\n",
       "      <td>24.534325</td>\n",
       "      <td>24.132235</td>\n",
       "      <td>24.507064</td>\n",
       "      <td>129539600</td>\n",
       "      <td>23.647063</td>\n",
       "      <td>24.908629</td>\n",
       "    </tr>\n",
       "    <tr>\n",
       "      <th>200</th>\n",
       "      <td>2016-04-20</td>\n",
       "      <td>24.336687</td>\n",
       "      <td>24.554770</td>\n",
       "      <td>24.093616</td>\n",
       "      <td>24.225374</td>\n",
       "      <td>122444000</td>\n",
       "      <td>23.621828</td>\n",
       "      <td>24.889213</td>\n",
       "    </tr>\n",
       "    <tr>\n",
       "      <th>201</th>\n",
       "      <td>2016-04-21</td>\n",
       "      <td>24.073174</td>\n",
       "      <td>24.291256</td>\n",
       "      <td>23.970946</td>\n",
       "      <td>24.291256</td>\n",
       "      <td>126210000</td>\n",
       "      <td>23.595878</td>\n",
       "      <td>24.868827</td>\n",
       "    </tr>\n",
       "    <tr>\n",
       "      <th>202</th>\n",
       "      <td>2016-04-22</td>\n",
       "      <td>24.007290</td>\n",
       "      <td>24.189026</td>\n",
       "      <td>23.766491</td>\n",
       "      <td>23.855087</td>\n",
       "      <td>134732400</td>\n",
       "      <td>23.569767</td>\n",
       "      <td>24.851606</td>\n",
       "    </tr>\n",
       "  </tbody>\n",
       "</table>\n",
       "<p>203 rows × 8 columns</p>\n",
       "</div>"
      ],
      "text/plain": [
       "Price        Date      Close       High        Low       Open     Volume  \\\n",
       "Ticker                  AAPL       AAPL       AAPL       AAPL       AAPL   \n",
       "0      2015-07-06  28.219824  28.271337  27.962262  27.982420  112241600   \n",
       "1      2015-07-07  28.150393  28.253417  27.720375  28.195185  187787200   \n",
       "2      2015-07-08  27.451614  27.915226  27.444896  27.879392  243046400   \n",
       "3      2015-07-09  26.891697  27.785324  26.701325  27.738291  314380000   \n",
       "4      2015-07-10  27.610634  27.738295  27.147023  27.310519  245418000   \n",
       "..            ...        ...        ...        ...        ...        ...   \n",
       "198    2016-04-18  24.416201  24.750139  24.293529  24.736509  243286000   \n",
       "199    2016-04-19  24.286711  24.534325  24.132235  24.507064  129539600   \n",
       "200    2016-04-20  24.336687  24.554770  24.093616  24.225374  122444000   \n",
       "201    2016-04-21  24.073174  24.291256  23.970946  24.291256  126210000   \n",
       "202    2016-04-22  24.007290  24.189026  23.766491  23.855087  134732400   \n",
       "\n",
       "Price      MA_100     MA_200  \n",
       "Ticker                        \n",
       "0             NaN        NaN  \n",
       "1             NaN        NaN  \n",
       "2             NaN        NaN  \n",
       "3             NaN        NaN  \n",
       "4             NaN        NaN  \n",
       "..            ...        ...  \n",
       "198     23.670244        NaN  \n",
       "199     23.647063  24.908629  \n",
       "200     23.621828  24.889213  \n",
       "201     23.595878  24.868827  \n",
       "202     23.569767  24.851606  \n",
       "\n",
       "[203 rows x 8 columns]"
      ]
     },
     "execution_count": 53,
     "metadata": {},
     "output_type": "execute_result"
    }
   ],
   "source": [
    "df['MA_200'] = df.Close.rolling(200).mean()\n",
    "df.head(203)"
   ]
  },
  {
   "cell_type": "code",
   "execution_count": 54,
   "id": "999d7c81-3180-4099-8e43-0d2a4ead7afd",
   "metadata": {},
   "outputs": [
    {
     "data": {
      "text/plain": [
       "Text(0, 0.5, 'Price')"
      ]
     },
     "execution_count": 54,
     "metadata": {},
     "output_type": "execute_result"
    },
    {
     "data": {
      "image/png": "[encoded data removed]",
      "text/plain": [
       "<Figure size 1200x500 with 1 Axes>"
      ]
     },
     "metadata": {},
     "output_type": "display_data"
    }
   ],
   "source": [
    "plt.figure(figsize=(12, 5))\n",
    "plt.plot(df.Close)\n",
    "plt.plot(df['MA_100'], 'r')\n",
    "plt.plot(df['MA_200'], 'g')\n",
    "plt.title('200 Days Moving Average')\n",
    "plt.xlabel('Days')\n",
    "plt.ylabel('Price')"
   ]
  },
  {
   "cell_type": "code",
   "execution_count": 55,
   "id": "1d108827-ffb3-428f-9433-6820d73a085f",
   "metadata": {},
   "outputs": [
    {
     "data": {
      "text/html": [
       "<div>\n",
       "<style scoped>\n",
       "    .dataframe tbody tr th:only-of-type {\n",
       "        vertical-align: middle;\n",
       "    }\n",
       "\n",
       "    .dataframe tbody tr th {\n",
       "        vertical-align: top;\n",
       "    }\n",
       "\n",
       "    .dataframe thead tr th {\n",
       "        text-align: left;\n",
       "    }\n",
       "</style>\n",
       "<table border=\"1\" class=\"dataframe\">\n",
       "  <thead>\n",
       "    <tr>\n",
       "      <th>Price</th>\n",
       "      <th>Date</th>\n",
       "      <th>Close</th>\n",
       "      <th>High</th>\n",
       "      <th>Low</th>\n",
       "      <th>Open</th>\n",
       "      <th>Volume</th>\n",
       "      <th>MA_100</th>\n",
       "      <th>MA_200</th>\n",
       "    </tr>\n",
       "    <tr>\n",
       "      <th>Ticker</th>\n",
       "      <th></th>\n",
       "      <th>AAPL</th>\n",
       "      <th>AAPL</th>\n",
       "      <th>AAPL</th>\n",
       "      <th>AAPL</th>\n",
       "      <th>AAPL</th>\n",
       "      <th></th>\n",
       "      <th></th>\n",
       "    </tr>\n",
       "  </thead>\n",
       "  <tbody>\n",
       "    <tr>\n",
       "      <th>0</th>\n",
       "      <td>2015-07-06</td>\n",
       "      <td>28.219824</td>\n",
       "      <td>28.271337</td>\n",
       "      <td>27.962262</td>\n",
       "      <td>27.982420</td>\n",
       "      <td>112241600</td>\n",
       "      <td>NaN</td>\n",
       "      <td>NaN</td>\n",
       "    </tr>\n",
       "    <tr>\n",
       "      <th>1</th>\n",
       "      <td>2015-07-07</td>\n",
       "      <td>28.150393</td>\n",
       "      <td>28.253417</td>\n",
       "      <td>27.720375</td>\n",
       "      <td>28.195185</td>\n",
       "      <td>187787200</td>\n",
       "      <td>NaN</td>\n",
       "      <td>NaN</td>\n",
       "    </tr>\n",
       "    <tr>\n",
       "      <th>2</th>\n",
       "      <td>2015-07-08</td>\n",
       "      <td>27.451614</td>\n",
       "      <td>27.915226</td>\n",
       "      <td>27.444896</td>\n",
       "      <td>27.879392</td>\n",
       "      <td>243046400</td>\n",
       "      <td>NaN</td>\n",
       "      <td>NaN</td>\n",
       "    </tr>\n",
       "    <tr>\n",
       "      <th>3</th>\n",
       "      <td>2015-07-09</td>\n",
       "      <td>26.891697</td>\n",
       "      <td>27.785324</td>\n",
       "      <td>26.701325</td>\n",
       "      <td>27.738291</td>\n",
       "      <td>314380000</td>\n",
       "      <td>NaN</td>\n",
       "      <td>NaN</td>\n",
       "    </tr>\n",
       "    <tr>\n",
       "      <th>4</th>\n",
       "      <td>2015-07-10</td>\n",
       "      <td>27.610634</td>\n",
       "      <td>27.738295</td>\n",
       "      <td>27.147023</td>\n",
       "      <td>27.310519</td>\n",
       "      <td>245418000</td>\n",
       "      <td>NaN</td>\n",
       "      <td>NaN</td>\n",
       "    </tr>\n",
       "    <tr>\n",
       "      <th>...</th>\n",
       "      <td>...</td>\n",
       "      <td>...</td>\n",
       "      <td>...</td>\n",
       "      <td>...</td>\n",
       "      <td>...</td>\n",
       "      <td>...</td>\n",
       "      <td>...</td>\n",
       "      <td>...</td>\n",
       "    </tr>\n",
       "    <tr>\n",
       "      <th>2510</th>\n",
       "      <td>2025-06-27</td>\n",
       "      <td>201.080002</td>\n",
       "      <td>203.220001</td>\n",
       "      <td>200.000000</td>\n",
       "      <td>201.889999</td>\n",
       "      <td>73188600</td>\n",
       "      <td>212.760757</td>\n",
       "      <td>222.897881</td>\n",
       "    </tr>\n",
       "    <tr>\n",
       "      <th>2511</th>\n",
       "      <td>2025-06-30</td>\n",
       "      <td>205.169998</td>\n",
       "      <td>207.389999</td>\n",
       "      <td>199.259995</td>\n",
       "      <td>202.009995</td>\n",
       "      <td>91912800</td>\n",
       "      <td>212.490059</td>\n",
       "      <td>222.827036</td>\n",
       "    </tr>\n",
       "    <tr>\n",
       "      <th>2512</th>\n",
       "      <td>2025-07-01</td>\n",
       "      <td>207.820007</td>\n",
       "      <td>210.190002</td>\n",
       "      <td>206.139999</td>\n",
       "      <td>206.669998</td>\n",
       "      <td>78788900</td>\n",
       "      <td>212.249153</td>\n",
       "      <td>222.756735</td>\n",
       "    </tr>\n",
       "    <tr>\n",
       "      <th>2513</th>\n",
       "      <td>2025-07-02</td>\n",
       "      <td>212.440002</td>\n",
       "      <td>213.339996</td>\n",
       "      <td>208.139999</td>\n",
       "      <td>208.910004</td>\n",
       "      <td>67893400</td>\n",
       "      <td>212.046966</td>\n",
       "      <td>222.708987</td>\n",
       "    </tr>\n",
       "    <tr>\n",
       "      <th>2514</th>\n",
       "      <td>2025-07-03</td>\n",
       "      <td>213.266205</td>\n",
       "      <td>213.789993</td>\n",
       "      <td>211.810104</td>\n",
       "      <td>212.145004</td>\n",
       "      <td>8045298</td>\n",
       "      <td>211.908806</td>\n",
       "      <td>222.666715</td>\n",
       "    </tr>\n",
       "  </tbody>\n",
       "</table>\n",
       "<p>2515 rows × 8 columns</p>\n",
       "</div>"
      ],
      "text/plain": [
       "Price        Date       Close        High         Low        Open     Volume  \\\n",
       "Ticker                   AAPL        AAPL        AAPL        AAPL       AAPL   \n",
       "0      2015-07-06   28.219824   28.271337   27.962262   27.982420  112241600   \n",
       "1      2015-07-07   28.150393   28.253417   27.720375   28.195185  187787200   \n",
       "2      2015-07-08   27.451614   27.915226   27.444896   27.879392  243046400   \n",
       "3      2015-07-09   26.891697   27.785324   26.701325   27.738291  314380000   \n",
       "4      2015-07-10   27.610634   27.738295   27.147023   27.310519  245418000   \n",
       "...           ...         ...         ...         ...         ...        ...   \n",
       "2510   2025-06-27  201.080002  203.220001  200.000000  201.889999   73188600   \n",
       "2511   2025-06-30  205.169998  207.389999  199.259995  202.009995   91912800   \n",
       "2512   2025-07-01  207.820007  210.190002  206.139999  206.669998   78788900   \n",
       "2513   2025-07-02  212.440002  213.339996  208.139999  208.910004   67893400   \n",
       "2514   2025-07-03  213.266205  213.789993  211.810104  212.145004    8045298   \n",
       "\n",
       "Price       MA_100      MA_200  \n",
       "Ticker                          \n",
       "0              NaN         NaN  \n",
       "1              NaN         NaN  \n",
       "2              NaN         NaN  \n",
       "3              NaN         NaN  \n",
       "4              NaN         NaN  \n",
       "...            ...         ...  \n",
       "2510    212.760757  222.897881  \n",
       "2511    212.490059  222.827036  \n",
       "2512    212.249153  222.756735  \n",
       "2513    212.046966  222.708987  \n",
       "2514    211.908806  222.666715  \n",
       "\n",
       "[2515 rows x 8 columns]"
      ]
     },
     "execution_count": 55,
     "metadata": {},
     "output_type": "execute_result"
    }
   ],
   "source": [
    "df"
   ]
  },
  {
   "cell_type": "code",
   "execution_count": null,
   "id": "072d8996-8dcd-4a3e-ba44-c7a248ac6a45",
   "metadata": {},
   "outputs": [],
   "source": []
  },
  {
   "cell_type": "markdown",
   "id": "6817580d-cd5b-4658-9da3-29d48e5f8897",
   "metadata": {},
   "source": [
    "### Calculating % changed in each trading session"
   ]
  },
  {
   "cell_type": "code",
   "execution_count": 56,
   "id": "e927d538-dabc-4f49-a8d6-74856b6804e9",
   "metadata": {},
   "outputs": [
    {
     "data": {
      "text/html": [
       "<div>\n",
       "<style scoped>\n",
       "    .dataframe tbody tr th:only-of-type {\n",
       "        vertical-align: middle;\n",
       "    }\n",
       "\n",
       "    .dataframe tbody tr th {\n",
       "        vertical-align: top;\n",
       "    }\n",
       "\n",
       "    .dataframe thead tr th {\n",
       "        text-align: left;\n",
       "    }\n",
       "</style>\n",
       "<table border=\"1\" class=\"dataframe\">\n",
       "  <thead>\n",
       "    <tr>\n",
       "      <th>Price</th>\n",
       "      <th>Close</th>\n",
       "      <th>Percentage Chaged</th>\n",
       "    </tr>\n",
       "    <tr>\n",
       "      <th>Ticker</th>\n",
       "      <th>AAPL</th>\n",
       "      <th></th>\n",
       "    </tr>\n",
       "  </thead>\n",
       "  <tbody>\n",
       "    <tr>\n",
       "      <th>0</th>\n",
       "      <td>28.219824</td>\n",
       "      <td>NaN</td>\n",
       "    </tr>\n",
       "    <tr>\n",
       "      <th>1</th>\n",
       "      <td>28.150393</td>\n",
       "      <td>-0.002460</td>\n",
       "    </tr>\n",
       "    <tr>\n",
       "      <th>2</th>\n",
       "      <td>27.451614</td>\n",
       "      <td>-0.024823</td>\n",
       "    </tr>\n",
       "    <tr>\n",
       "      <th>3</th>\n",
       "      <td>26.891697</td>\n",
       "      <td>-0.020397</td>\n",
       "    </tr>\n",
       "    <tr>\n",
       "      <th>4</th>\n",
       "      <td>27.610634</td>\n",
       "      <td>0.026735</td>\n",
       "    </tr>\n",
       "    <tr>\n",
       "      <th>...</th>\n",
       "      <td>...</td>\n",
       "      <td>...</td>\n",
       "    </tr>\n",
       "    <tr>\n",
       "      <th>2510</th>\n",
       "      <td>201.080002</td>\n",
       "      <td>0.000398</td>\n",
       "    </tr>\n",
       "    <tr>\n",
       "      <th>2511</th>\n",
       "      <td>205.169998</td>\n",
       "      <td>0.020340</td>\n",
       "    </tr>\n",
       "    <tr>\n",
       "      <th>2512</th>\n",
       "      <td>207.820007</td>\n",
       "      <td>0.012916</td>\n",
       "    </tr>\n",
       "    <tr>\n",
       "      <th>2513</th>\n",
       "      <td>212.440002</td>\n",
       "      <td>0.022231</td>\n",
       "    </tr>\n",
       "    <tr>\n",
       "      <th>2514</th>\n",
       "      <td>213.266205</td>\n",
       "      <td>0.003889</td>\n",
       "    </tr>\n",
       "  </tbody>\n",
       "</table>\n",
       "<p>2515 rows × 2 columns</p>\n",
       "</div>"
      ],
      "text/plain": [
       "Price        Close Percentage Chaged\n",
       "Ticker        AAPL                  \n",
       "0        28.219824               NaN\n",
       "1        28.150393         -0.002460\n",
       "2        27.451614         -0.024823\n",
       "3        26.891697         -0.020397\n",
       "4        27.610634          0.026735\n",
       "...            ...               ...\n",
       "2510    201.080002          0.000398\n",
       "2511    205.169998          0.020340\n",
       "2512    207.820007          0.012916\n",
       "2513    212.440002          0.022231\n",
       "2514    213.266205          0.003889\n",
       "\n",
       "[2515 rows x 2 columns]"
      ]
     },
     "execution_count": 56,
     "metadata": {},
     "output_type": "execute_result"
    }
   ],
   "source": [
    "df['Percentage Chaged'] = df.Close.pct_change()\n",
    "df[['Close', 'Percentage Chaged']]"
   ]
  },
  {
   "cell_type": "code",
   "execution_count": 57,
   "id": "a286fdc8-dafc-4eaa-93f5-353b100c6bbd",
   "metadata": {},
   "outputs": [
    {
     "data": {
      "text/plain": [
       "[<matplotlib.lines.Line2D at 0x22e22646050>]"
      ]
     },
     "execution_count": 57,
     "metadata": {},
     "output_type": "execute_result"
    },
    {
     "data": {
      "image/png": "[encoded data removed]",
      "text/plain": [
       "<Figure size 1200x500 with 1 Axes>"
      ]
     },
     "metadata": {},
     "output_type": "display_data"
    }
   ],
   "source": [
    "plt.figure(figsize=(12, 5))\n",
    "plt.plot(df['Percentage Chaged'])"
   ]
  },
  {
   "cell_type": "code",
   "execution_count": null,
   "id": "18d0be41-f9be-4b50-86be-63174255542b",
   "metadata": {},
   "outputs": [],
   "source": []
  },
  {
   "cell_type": "markdown",
   "id": "6cc4020b-1c81-47d6-9b3b-a005d5766c8b",
   "metadata": {},
   "source": [
    "# 4. Data Preprocessing"
   ]
  },
  {
   "cell_type": "code",
   "execution_count": 58,
   "id": "93209280-446b-497a-a559-0690180ea4a2",
   "metadata": {},
   "outputs": [
    {
     "data": {
      "text/plain": [
       "(2515, 9)"
      ]
     },
     "execution_count": 58,
     "metadata": {},
     "output_type": "execute_result"
    }
   ],
   "source": [
    "df.shape"
   ]
  },
  {
   "cell_type": "code",
   "execution_count": 59,
   "id": "689ebd7d-14dc-4b5d-a4dd-e66f740a72e5",
   "metadata": {},
   "outputs": [
    {
     "name": "stdout",
     "output_type": "stream",
     "text": [
      "Ticker        AAPL\n",
      "0        28.219824\n",
      "1        28.150393\n",
      "2        27.451614\n",
      "3        26.891697\n",
      "4        27.610634\n",
      "...            ...\n",
      "1755    136.086716\n",
      "1756    139.423187\n",
      "1757    139.423187\n",
      "1758    135.269821\n",
      "1759    137.031555\n",
      "\n",
      "[1760 rows x 1 columns]\n",
      "Ticker        AAPL\n",
      "1760    134.561203\n",
      "1761    136.736298\n",
      "1762    139.324738\n",
      "1763    140.663315\n",
      "1764    144.039154\n",
      "...            ...\n",
      "2510    201.080002\n",
      "2511    205.169998\n",
      "2512    207.820007\n",
      "2513    212.440002\n",
      "2514    213.266205\n",
      "\n",
      "[755 rows x 1 columns]\n"
     ]
    }
   ],
   "source": [
    "# Splitting data into Training & Testing datasets\n",
    "data_training = pd.DataFrame(df.Close[0:int(len(df)*0.7)])\n",
    "data_testing = pd.DataFrame(df.Close[int(len(df)*0.7): int(len(df))])\n",
    "\n",
    "print(data_training)\n",
    "print(data_testing)"
   ]
  },
  {
   "cell_type": "code",
   "execution_count": 60,
   "id": "22255435-4450-4f22-bd39-0375c987237e",
   "metadata": {},
   "outputs": [
    {
     "data": {
      "text/plain": [
       "pandas.core.frame.DataFrame"
      ]
     },
     "execution_count": 60,
     "metadata": {},
     "output_type": "execute_result"
    }
   ],
   "source": [
    "type(data_training)"
   ]
  },
  {
   "cell_type": "code",
   "execution_count": 61,
   "id": "f76664ed-fc72-4075-8ae8-14d01cae639e",
   "metadata": {},
   "outputs": [
    {
     "data": {
      "text/html": [
       "<div>\n",
       "<style scoped>\n",
       "    .dataframe tbody tr th:only-of-type {\n",
       "        vertical-align: middle;\n",
       "    }\n",
       "\n",
       "    .dataframe tbody tr th {\n",
       "        vertical-align: top;\n",
       "    }\n",
       "\n",
       "    .dataframe thead th {\n",
       "        text-align: right;\n",
       "    }\n",
       "</style>\n",
       "<table border=\"1\" class=\"dataframe\">\n",
       "  <thead>\n",
       "    <tr style=\"text-align: right;\">\n",
       "      <th>Ticker</th>\n",
       "      <th>AAPL</th>\n",
       "    </tr>\n",
       "  </thead>\n",
       "  <tbody>\n",
       "    <tr>\n",
       "      <th>0</th>\n",
       "      <td>28.219824</td>\n",
       "    </tr>\n",
       "    <tr>\n",
       "      <th>1</th>\n",
       "      <td>28.150393</td>\n",
       "    </tr>\n",
       "    <tr>\n",
       "      <th>2</th>\n",
       "      <td>27.451614</td>\n",
       "    </tr>\n",
       "    <tr>\n",
       "      <th>3</th>\n",
       "      <td>26.891697</td>\n",
       "    </tr>\n",
       "    <tr>\n",
       "      <th>4</th>\n",
       "      <td>27.610634</td>\n",
       "    </tr>\n",
       "    <tr>\n",
       "      <th>...</th>\n",
       "      <td>...</td>\n",
       "    </tr>\n",
       "    <tr>\n",
       "      <th>1755</th>\n",
       "      <td>136.086716</td>\n",
       "    </tr>\n",
       "    <tr>\n",
       "      <th>1756</th>\n",
       "      <td>139.423187</td>\n",
       "    </tr>\n",
       "    <tr>\n",
       "      <th>1757</th>\n",
       "      <td>139.423187</td>\n",
       "    </tr>\n",
       "    <tr>\n",
       "      <th>1758</th>\n",
       "      <td>135.269821</td>\n",
       "    </tr>\n",
       "    <tr>\n",
       "      <th>1759</th>\n",
       "      <td>137.031555</td>\n",
       "    </tr>\n",
       "  </tbody>\n",
       "</table>\n",
       "<p>1760 rows × 1 columns</p>\n",
       "</div>"
      ],
      "text/plain": [
       "Ticker        AAPL\n",
       "0        28.219824\n",
       "1        28.150393\n",
       "2        27.451614\n",
       "3        26.891697\n",
       "4        27.610634\n",
       "...            ...\n",
       "1755    136.086716\n",
       "1756    139.423187\n",
       "1757    139.423187\n",
       "1758    135.269821\n",
       "1759    137.031555\n",
       "\n",
       "[1760 rows x 1 columns]"
      ]
     },
     "execution_count": 61,
     "metadata": {},
     "output_type": "execute_result"
    }
   ],
   "source": [
    "data_training"
   ]
  },
  {
   "cell_type": "code",
   "execution_count": 62,
   "id": "ca8224cc-6457-4d63-a688-abe3de7c67bc",
   "metadata": {},
   "outputs": [
    {
     "data": {
      "text/html": [
       "<div>\n",
       "<style scoped>\n",
       "    .dataframe tbody tr th:only-of-type {\n",
       "        vertical-align: middle;\n",
       "    }\n",
       "\n",
       "    .dataframe tbody tr th {\n",
       "        vertical-align: top;\n",
       "    }\n",
       "\n",
       "    .dataframe thead th {\n",
       "        text-align: right;\n",
       "    }\n",
       "</style>\n",
       "<table border=\"1\" class=\"dataframe\">\n",
       "  <thead>\n",
       "    <tr style=\"text-align: right;\">\n",
       "      <th>Ticker</th>\n",
       "      <th>AAPL</th>\n",
       "    </tr>\n",
       "  </thead>\n",
       "  <tbody>\n",
       "    <tr>\n",
       "      <th>1760</th>\n",
       "      <td>134.561203</td>\n",
       "    </tr>\n",
       "    <tr>\n",
       "      <th>1761</th>\n",
       "      <td>136.736298</td>\n",
       "    </tr>\n",
       "    <tr>\n",
       "      <th>1762</th>\n",
       "      <td>139.324738</td>\n",
       "    </tr>\n",
       "    <tr>\n",
       "      <th>1763</th>\n",
       "      <td>140.663315</td>\n",
       "    </tr>\n",
       "    <tr>\n",
       "      <th>1764</th>\n",
       "      <td>144.039154</td>\n",
       "    </tr>\n",
       "    <tr>\n",
       "      <th>...</th>\n",
       "      <td>...</td>\n",
       "    </tr>\n",
       "    <tr>\n",
       "      <th>2510</th>\n",
       "      <td>201.080002</td>\n",
       "    </tr>\n",
       "    <tr>\n",
       "      <th>2511</th>\n",
       "      <td>205.169998</td>\n",
       "    </tr>\n",
       "    <tr>\n",
       "      <th>2512</th>\n",
       "      <td>207.820007</td>\n",
       "    </tr>\n",
       "    <tr>\n",
       "      <th>2513</th>\n",
       "      <td>212.440002</td>\n",
       "    </tr>\n",
       "    <tr>\n",
       "      <th>2514</th>\n",
       "      <td>213.266205</td>\n",
       "    </tr>\n",
       "  </tbody>\n",
       "</table>\n",
       "<p>755 rows × 1 columns</p>\n",
       "</div>"
      ],
      "text/plain": [
       "Ticker        AAPL\n",
       "1760    134.561203\n",
       "1761    136.736298\n",
       "1762    139.324738\n",
       "1763    140.663315\n",
       "1764    144.039154\n",
       "...            ...\n",
       "2510    201.080002\n",
       "2511    205.169998\n",
       "2512    207.820007\n",
       "2513    212.440002\n",
       "2514    213.266205\n",
       "\n",
       "[755 rows x 1 columns]"
      ]
     },
     "execution_count": 62,
     "metadata": {},
     "output_type": "execute_result"
    }
   ],
   "source": [
    "data_testing"
   ]
  },
  {
   "cell_type": "code",
   "execution_count": 63,
   "id": "e201e5e2-3600-4e90-90a8-eb40636a1830",
   "metadata": {},
   "outputs": [],
   "source": [
    "# Scaling down the data between 0 and 1"
   ]
  },
  {
   "cell_type": "code",
   "execution_count": 64,
   "id": "8712c658-1104-437b-9616-8a7db7b62723",
   "metadata": {},
   "outputs": [],
   "source": [
    "from sklearn.preprocessing import MinMaxScaler\n",
    "scaler = MinMaxScaler(feature_range=(0,1))"
   ]
  },
  {
   "cell_type": "code",
   "execution_count": 65,
   "id": "9d84aff7-1d6f-4c30-ae18-23633fe8c0e5",
   "metadata": {},
   "outputs": [
    {
     "data": {
      "text/plain": [
       "array([[0.04792688],\n",
       "       [0.04748743],\n",
       "       [0.04306473],\n",
       "       ...,\n",
       "       [0.75175374],\n",
       "       [0.72546631],\n",
       "       [0.73661665]])"
      ]
     },
     "execution_count": 65,
     "metadata": {},
     "output_type": "execute_result"
    }
   ],
   "source": [
    "data_training_array = scaler.fit_transform(data_training)\n",
    "data_training_array"
   ]
  },
  {
   "cell_type": "code",
   "execution_count": 66,
   "id": "149395b0-80ea-4db5-bd51-43c342089550",
   "metadata": {},
   "outputs": [
    {
     "data": {
      "text/plain": [
       "numpy.ndarray"
      ]
     },
     "execution_count": 66,
     "metadata": {},
     "output_type": "execute_result"
    }
   ],
   "source": [
    "type(data_training_array)"
   ]
  },
  {
   "cell_type": "code",
   "execution_count": 67,
   "id": "08e8ad00-ee92-443f-80d3-147cc2d9dcc5",
   "metadata": {},
   "outputs": [
    {
     "data": {
      "text/plain": [
       "(1760, 1)"
      ]
     },
     "execution_count": 67,
     "metadata": {},
     "output_type": "execute_result"
    }
   ],
   "source": [
    "data_training_array.shape"
   ]
  },
  {
   "cell_type": "code",
   "execution_count": null,
   "id": "a8c44a16-4fe4-43dc-be99-cbc5a0f8dcb8",
   "metadata": {},
   "outputs": [],
   "source": []
  },
  {
   "cell_type": "markdown",
   "id": "c69f0462-fd02-4f01-a4ef-0a4f42f12bf4",
   "metadata": {},
   "source": [
    "# 5. Sequence Creation"
   ]
  },
  {
   "cell_type": "code",
   "execution_count": 68,
   "id": "8f046563-1e01-478d-abff-daa2506cd4a4",
   "metadata": {},
   "outputs": [],
   "source": [
    "# 12, 15, 10, 14, 16, 18, 19, 20, 21, 20      22"
   ]
  },
  {
   "cell_type": "code",
   "execution_count": null,
   "id": "32a3e55d-7c76-4ddf-a781-dd886e5e14d1",
   "metadata": {},
   "outputs": [],
   "source": []
  },
  {
   "cell_type": "code",
   "execution_count": 69,
   "id": "f115ea2c-4d24-45d4-8c20-cd4919f46457",
   "metadata": {},
   "outputs": [],
   "source": [
    "x_train = []\n",
    "y_train = []\n",
    "\n",
    "for i in range(100, data_training_array.shape[0]):\n",
    "    x_train.append(data_training_array[i-100: i])\n",
    "    y_train.append(data_training_array[i, 0])\n",
    "\n",
    "\n",
    "x_train, y_train = np.array(x_train), np.array(y_train)"
   ]
  },
  {
   "cell_type": "code",
   "execution_count": 70,
   "id": "5e6d7cc8-7f39-46ab-b8ca-023b89316915",
   "metadata": {},
   "outputs": [
    {
     "data": {
      "text/plain": [
       "array([[[0.04792688],\n",
       "        [0.04748743],\n",
       "        [0.04306473],\n",
       "        ...,\n",
       "        [0.03917839],\n",
       "        [0.03992203],\n",
       "        [0.03770548]],\n",
       "\n",
       "       [[0.04748743],\n",
       "        [0.04306473],\n",
       "        [0.03952091],\n",
       "        ...,\n",
       "        [0.03992203],\n",
       "        [0.03770548],\n",
       "        [0.03932145]],\n",
       "\n",
       "       [[0.04306473],\n",
       "        [0.03952091],\n",
       "        [0.0440712 ],\n",
       "        ...,\n",
       "        [0.03770548],\n",
       "        [0.03932145],\n",
       "        [0.03810588]],\n",
       "\n",
       "       ...,\n",
       "\n",
       "       [[0.95402986],\n",
       "        [0.96167083],\n",
       "        [0.94340682],\n",
       "        ...,\n",
       "        [0.71244722],\n",
       "        [0.73063658],\n",
       "        [0.75175374]],\n",
       "\n",
       "       [[0.96167083],\n",
       "        [0.94340682],\n",
       "        [0.94160317],\n",
       "        ...,\n",
       "        [0.73063658],\n",
       "        [0.75175374],\n",
       "        [0.75175374]],\n",
       "\n",
       "       [[0.94340682],\n",
       "        [0.94160317],\n",
       "        [0.93706256],\n",
       "        ...,\n",
       "        [0.75175374],\n",
       "        [0.75175374],\n",
       "        [0.72546631]]])"
      ]
     },
     "execution_count": 70,
     "metadata": {},
     "output_type": "execute_result"
    }
   ],
   "source": [
    "x_train"
   ]
  },
  {
   "cell_type": "code",
   "execution_count": 71,
   "id": "1114f403-0fb1-4123-aa2c-6c3e24363ad5",
   "metadata": {},
   "outputs": [
    {
     "data": {
      "text/plain": [
       "array([0.03932145, 0.03810588, 0.03779128, ..., 0.75175374, 0.72546631,\n",
       "       0.73661665])"
      ]
     },
     "execution_count": 71,
     "metadata": {},
     "output_type": "execute_result"
    }
   ],
   "source": [
    "y_train"
   ]
  },
  {
   "cell_type": "code",
   "execution_count": 72,
   "id": "fd21cb94-68f3-497a-a99b-1e3478d552ff",
   "metadata": {},
   "outputs": [
    {
     "data": {
      "text/plain": [
       "(1660, 100, 1)"
      ]
     },
     "execution_count": 72,
     "metadata": {},
     "output_type": "execute_result"
    }
   ],
   "source": [
    "x_train.shape"
   ]
  },
  {
   "cell_type": "code",
   "execution_count": 73,
   "id": "2dfba926-5fea-4e7c-818b-6af646088a77",
   "metadata": {},
   "outputs": [
    {
     "data": {
      "text/plain": [
       "(1660,)"
      ]
     },
     "execution_count": 73,
     "metadata": {},
     "output_type": "execute_result"
    }
   ],
   "source": [
    "y_train.shape"
   ]
  },
  {
   "cell_type": "code",
   "execution_count": 74,
   "id": "150c62df-2ddd-43ae-8f7c-ff38bdfd1d9f",
   "metadata": {},
   "outputs": [
    {
     "data": {
      "text/plain": [
       "3"
      ]
     },
     "execution_count": 74,
     "metadata": {},
     "output_type": "execute_result"
    }
   ],
   "source": [
    "x_train.ndim"
   ]
  },
  {
   "cell_type": "code",
   "execution_count": null,
   "id": "8f88c49b-cf20-4f59-aaee-60884478924a",
   "metadata": {},
   "outputs": [],
   "source": []
  },
  {
   "cell_type": "markdown",
   "id": "65e68ef1-af5c-40fe-a987-9306c8ace742",
   "metadata": {},
   "source": [
    "# 6. Model Building"
   ]
  },
  {
   "cell_type": "code",
   "execution_count": 75,
   "id": "7d9d776d-5b20-42ba-ad65-be67c51dca3c",
   "metadata": {},
   "outputs": [
    {
     "name": "stdout",
     "output_type": "stream",
     "text": [
      "2.18.1\n"
     ]
    }
   ],
   "source": [
    "import tensorflow as tf\n",
    "print(tf.__version__)"
   ]
  },
  {
   "cell_type": "code",
   "execution_count": 76,
   "id": "8420e886-239c-48f1-bfd7-196642ed488c",
   "metadata": {},
   "outputs": [],
   "source": [
    "# ML Model\n",
    "from keras.models import Sequential\n",
    "from keras.layers import Dense, LSTM, Input"
   ]
  },
  {
   "cell_type": "code",
   "execution_count": 77,
   "id": "3cea4c41-5f8b-4360-854e-5e3934728ad5",
   "metadata": {},
   "outputs": [],
   "source": [
    "model = Sequential()\n",
    "\n",
    "model.add(Input(shape=(100, 1)))\n",
    "model.add(LSTM(units=128, activation='tanh', return_sequences=True))\n",
    "model.add(LSTM(units=64))\n",
    "model.add(Dense(25))\n",
    "model.add(Dense(1))"
   ]
  },
  {
   "cell_type": "code",
   "execution_count": null,
   "id": "ab2c28d6-1e34-46bf-b51b-b45ed4e87ef9",
   "metadata": {},
   "outputs": [],
   "source": []
  },
  {
   "cell_type": "markdown",
   "id": "de748527-e326-45ea-b36f-2f1dd8d4336f",
   "metadata": {},
   "source": [
    "# 7. Model Training"
   ]
  },
  {
   "cell_type": "code",
   "execution_count": 78,
   "id": "16d54ce3-c5e0-4586-9161-7f78432c5b5d",
   "metadata": {},
   "outputs": [
    {
     "name": "stdout",
     "output_type": "stream",
     "text": [
      "Epoch 1/50\n",
      "\u001b[1m52/52\u001b[0m \u001b[32m━━━━━━━━━━━━━━━━━━━━\u001b[0m\u001b[37m\u001b[0m \u001b[1m12s\u001b[0m 143ms/step - loss: 0.0239\n",
      "Epoch 2/50\n",
      "\u001b[1m52/52\u001b[0m \u001b[32m━━━━━━━━━━━━━━━━━━━━\u001b[0m\u001b[37m\u001b[0m \u001b[1m8s\u001b[0m 151ms/step - loss: 5.4192e-04\n",
      "Epoch 3/50\n",
      "\u001b[1m52/52\u001b[0m \u001b[32m━━━━━━━━━━━━━━━━━━━━\u001b[0m\u001b[37m\u001b[0m \u001b[1m9s\u001b[0m 175ms/step - loss: 4.7357e-04\n",
      "Epoch 4/50\n",
      "\u001b[1m52/52\u001b[0m \u001b[32m━━━━━━━━━━━━━━━━━━━━\u001b[0m\u001b[37m\u001b[0m \u001b[1m9s\u001b[0m 174ms/step - loss: 5.4989e-04\n",
      "Epoch 5/50\n",
      "\u001b[1m52/52\u001b[0m \u001b[32m━━━━━━━━━━━━━━━━━━━━\u001b[0m\u001b[37m\u001b[0m \u001b[1m10s\u001b[0m 198ms/step - loss: 4.4741e-04\n",
      "Epoch 6/50\n",
      "\u001b[1m52/52\u001b[0m \u001b[32m━━━━━━━━━━━━━━━━━━━━\u001b[0m\u001b[37m\u001b[0m \u001b[1m10s\u001b[0m 187ms/step - loss: 7.2740e-04\n",
      "Epoch 7/50\n",
      "\u001b[1m52/52\u001b[0m \u001b[32m━━━━━━━━━━━━━━━━━━━━\u001b[0m\u001b[37m\u001b[0m \u001b[1m9s\u001b[0m 170ms/step - loss: 4.2917e-04\n",
      "Epoch 8/50\n",
      "\u001b[1m52/52\u001b[0m \u001b[32m━━━━━━━━━━━━━━━━━━━━\u001b[0m\u001b[37m\u001b[0m \u001b[1m9s\u001b[0m 181ms/step - loss: 4.0671e-04\n",
      "Epoch 9/50\n",
      "\u001b[1m52/52\u001b[0m \u001b[32m━━━━━━━━━━━━━━━━━━━━\u001b[0m\u001b[37m\u001b[0m \u001b[1m10s\u001b[0m 197ms/step - loss: 3.9799e-04\n",
      "Epoch 10/50\n",
      "\u001b[1m52/52\u001b[0m \u001b[32m━━━━━━━━━━━━━━━━━━━━\u001b[0m\u001b[37m\u001b[0m \u001b[1m10s\u001b[0m 191ms/step - loss: 3.8435e-04\n",
      "Epoch 11/50\n",
      "\u001b[1m52/52\u001b[0m \u001b[32m━━━━━━━━━━━━━━━━━━━━\u001b[0m\u001b[37m\u001b[0m \u001b[1m10s\u001b[0m 190ms/step - loss: 5.5668e-04\n",
      "Epoch 12/50\n",
      "\u001b[1m52/52\u001b[0m \u001b[32m━━━━━━━━━━━━━━━━━━━━\u001b[0m\u001b[37m\u001b[0m \u001b[1m9s\u001b[0m 177ms/step - loss: 3.3830e-04\n",
      "Epoch 13/50\n",
      "\u001b[1m52/52\u001b[0m \u001b[32m━━━━━━━━━━━━━━━━━━━━\u001b[0m\u001b[37m\u001b[0m \u001b[1m10s\u001b[0m 192ms/step - loss: 3.6882e-04\n",
      "Epoch 14/50\n",
      "\u001b[1m52/52\u001b[0m \u001b[32m━━━━━━━━━━━━━━━━━━━━\u001b[0m\u001b[37m\u001b[0m \u001b[1m10s\u001b[0m 184ms/step - loss: 2.9100e-04\n",
      "Epoch 15/50\n",
      "\u001b[1m52/52\u001b[0m \u001b[32m━━━━━━━━━━━━━━━━━━━━\u001b[0m\u001b[37m\u001b[0m \u001b[1m10s\u001b[0m 186ms/step - loss: 3.3615e-04\n",
      "Epoch 16/50\n",
      "\u001b[1m52/52\u001b[0m \u001b[32m━━━━━━━━━━━━━━━━━━━━\u001b[0m\u001b[37m\u001b[0m \u001b[1m10s\u001b[0m 191ms/step - loss: 2.9939e-04\n",
      "Epoch 17/50\n",
      "\u001b[1m52/52\u001b[0m \u001b[32m━━━━━━━━━━━━━━━━━━━━\u001b[0m\u001b[37m\u001b[0m \u001b[1m11s\u001b[0m 203ms/step - loss: 5.0822e-04\n",
      "Epoch 18/50\n",
      "\u001b[1m52/52\u001b[0m \u001b[32m━━━━━━━━━━━━━━━━━━━━\u001b[0m\u001b[37m\u001b[0m \u001b[1m10s\u001b[0m 187ms/step - loss: 2.6355e-04\n",
      "Epoch 19/50\n",
      "\u001b[1m52/52\u001b[0m \u001b[32m━━━━━━━━━━━━━━━━━━━━\u001b[0m\u001b[37m\u001b[0m \u001b[1m10s\u001b[0m 184ms/step - loss: 2.6897e-04\n",
      "Epoch 20/50\n",
      "\u001b[1m52/52\u001b[0m \u001b[32m━━━━━━━━━━━━━━━━━━━━\u001b[0m\u001b[37m\u001b[0m \u001b[1m10s\u001b[0m 189ms/step - loss: 2.7433e-04\n",
      "Epoch 21/50\n",
      "\u001b[1m52/52\u001b[0m \u001b[32m━━━━━━━━━━━━━━━━━━━━\u001b[0m\u001b[37m\u001b[0m \u001b[1m10s\u001b[0m 190ms/step - loss: 2.8607e-04\n",
      "Epoch 22/50\n",
      "\u001b[1m52/52\u001b[0m \u001b[32m━━━━━━━━━━━━━━━━━━━━\u001b[0m\u001b[37m\u001b[0m \u001b[1m10s\u001b[0m 190ms/step - loss: 2.7592e-04\n",
      "Epoch 23/50\n",
      "\u001b[1m52/52\u001b[0m \u001b[32m━━━━━━━━━━━━━━━━━━━━\u001b[0m\u001b[37m\u001b[0m \u001b[1m10s\u001b[0m 182ms/step - loss: 2.7698e-04\n",
      "Epoch 24/50\n",
      "\u001b[1m52/52\u001b[0m \u001b[32m━━━━━━━━━━━━━━━━━━━━\u001b[0m\u001b[37m\u001b[0m \u001b[1m10s\u001b[0m 196ms/step - loss: 3.3067e-04\n",
      "Epoch 25/50\n",
      "\u001b[1m52/52\u001b[0m \u001b[32m━━━━━━━━━━━━━━━━━━━━\u001b[0m\u001b[37m\u001b[0m \u001b[1m10s\u001b[0m 193ms/step - loss: 2.4870e-04\n",
      "Epoch 26/50\n",
      "\u001b[1m52/52\u001b[0m \u001b[32m━━━━━━━━━━━━━━━━━━━━\u001b[0m\u001b[37m\u001b[0m \u001b[1m10s\u001b[0m 188ms/step - loss: 2.5524e-04\n",
      "Epoch 27/50\n",
      "\u001b[1m52/52\u001b[0m \u001b[32m━━━━━━━━━━━━━━━━━━━━\u001b[0m\u001b[37m\u001b[0m \u001b[1m10s\u001b[0m 191ms/step - loss: 2.2664e-04\n",
      "Epoch 28/50\n",
      "\u001b[1m52/52\u001b[0m \u001b[32m━━━━━━━━━━━━━━━━━━━━\u001b[0m\u001b[37m\u001b[0m \u001b[1m10s\u001b[0m 185ms/step - loss: 2.8824e-04\n",
      "Epoch 29/50\n",
      "\u001b[1m52/52\u001b[0m \u001b[32m━━━━━━━━━━━━━━━━━━━━\u001b[0m\u001b[37m\u001b[0m \u001b[1m10s\u001b[0m 193ms/step - loss: 2.3768e-04\n",
      "Epoch 30/50\n",
      "\u001b[1m52/52\u001b[0m \u001b[32m━━━━━━━━━━━━━━━━━━━━\u001b[0m\u001b[37m\u001b[0m \u001b[1m9s\u001b[0m 179ms/step - loss: 3.0451e-04\n",
      "Epoch 31/50\n",
      "\u001b[1m52/52\u001b[0m \u001b[32m━━━━━━━━━━━━━━━━━━━━\u001b[0m\u001b[37m\u001b[0m \u001b[1m11s\u001b[0m 208ms/step - loss: 2.0010e-04\n",
      "Epoch 32/50\n",
      "\u001b[1m52/52\u001b[0m \u001b[32m━━━━━━━━━━━━━━━━━━━━\u001b[0m\u001b[37m\u001b[0m \u001b[1m10s\u001b[0m 190ms/step - loss: 1.9960e-04\n",
      "Epoch 33/50\n",
      "\u001b[1m52/52\u001b[0m \u001b[32m━━━━━━━━━━━━━━━━━━━━\u001b[0m\u001b[37m\u001b[0m \u001b[1m10s\u001b[0m 193ms/step - loss: 2.3577e-04\n",
      "Epoch 34/50\n",
      "\u001b[1m52/52\u001b[0m \u001b[32m━━━━━━━━━━━━━━━━━━━━\u001b[0m\u001b[37m\u001b[0m \u001b[1m10s\u001b[0m 196ms/step - loss: 2.0705e-04\n",
      "Epoch 35/50\n",
      "\u001b[1m52/52\u001b[0m \u001b[32m━━━━━━━━━━━━━━━━━━━━\u001b[0m\u001b[37m\u001b[0m \u001b[1m11s\u001b[0m 206ms/step - loss: 2.3344e-04\n",
      "Epoch 36/50\n",
      "\u001b[1m52/52\u001b[0m \u001b[32m━━━━━━━━━━━━━━━━━━━━\u001b[0m\u001b[37m\u001b[0m \u001b[1m11s\u001b[0m 211ms/step - loss: 2.1155e-04\n",
      "Epoch 37/50\n",
      "\u001b[1m52/52\u001b[0m \u001b[32m━━━━━━━━━━━━━━━━━━━━\u001b[0m\u001b[37m\u001b[0m \u001b[1m10s\u001b[0m 193ms/step - loss: 2.0978e-04\n",
      "Epoch 38/50\n",
      "\u001b[1m52/52\u001b[0m \u001b[32m━━━━━━━━━━━━━━━━━━━━\u001b[0m\u001b[37m\u001b[0m \u001b[1m10s\u001b[0m 200ms/step - loss: 1.9498e-04\n",
      "Epoch 39/50\n",
      "\u001b[1m52/52\u001b[0m \u001b[32m━━━━━━━━━━━━━━━━━━━━\u001b[0m\u001b[37m\u001b[0m \u001b[1m10s\u001b[0m 194ms/step - loss: 1.5929e-04\n",
      "Epoch 40/50\n",
      "\u001b[1m52/52\u001b[0m \u001b[32m━━━━━━━━━━━━━━━━━━━━\u001b[0m\u001b[37m\u001b[0m \u001b[1m10s\u001b[0m 198ms/step - loss: 1.9264e-04\n",
      "Epoch 41/50\n",
      "\u001b[1m52/52\u001b[0m \u001b[32m━━━━━━━━━━━━━━━━━━━━\u001b[0m\u001b[37m\u001b[0m \u001b[1m11s\u001b[0m 209ms/step - loss: 2.8043e-04\n",
      "Epoch 42/50\n",
      "\u001b[1m52/52\u001b[0m \u001b[32m━━━━━━━━━━━━━━━━━━━━\u001b[0m\u001b[37m\u001b[0m \u001b[1m10s\u001b[0m 195ms/step - loss: 1.9709e-04\n",
      "Epoch 43/50\n",
      "\u001b[1m52/52\u001b[0m \u001b[32m━━━━━━━━━━━━━━━━━━━━\u001b[0m\u001b[37m\u001b[0m \u001b[1m10s\u001b[0m 198ms/step - loss: 1.5311e-04\n",
      "Epoch 44/50\n",
      "\u001b[1m52/52\u001b[0m \u001b[32m━━━━━━━━━━━━━━━━━━━━\u001b[0m\u001b[37m\u001b[0m \u001b[1m11s\u001b[0m 207ms/step - loss: 1.8283e-04\n",
      "Epoch 45/50\n",
      "\u001b[1m52/52\u001b[0m \u001b[32m━━━━━━━━━━━━━━━━━━━━\u001b[0m\u001b[37m\u001b[0m \u001b[1m10s\u001b[0m 198ms/step - loss: 1.8172e-04\n",
      "Epoch 46/50\n",
      "\u001b[1m52/52\u001b[0m \u001b[32m━━━━━━━━━━━━━━━━━━━━\u001b[0m\u001b[37m\u001b[0m \u001b[1m11s\u001b[0m 206ms/step - loss: 2.3531e-04\n",
      "Epoch 47/50\n",
      "\u001b[1m52/52\u001b[0m \u001b[32m━━━━━━━━━━━━━━━━━━━━\u001b[0m\u001b[37m\u001b[0m \u001b[1m11s\u001b[0m 203ms/step - loss: 1.2645e-04\n",
      "Epoch 48/50\n",
      "\u001b[1m52/52\u001b[0m \u001b[32m━━━━━━━━━━━━━━━━━━━━\u001b[0m\u001b[37m\u001b[0m \u001b[1m12s\u001b[0m 229ms/step - loss: 1.6816e-04\n",
      "Epoch 49/50\n",
      "\u001b[1m52/52\u001b[0m \u001b[32m━━━━━━━━━━━━━━━━━━━━\u001b[0m\u001b[37m\u001b[0m \u001b[1m11s\u001b[0m 214ms/step - loss: 1.6525e-04\n",
      "Epoch 50/50\n",
      "\u001b[1m52/52\u001b[0m \u001b[32m━━━━━━━━━━━━━━━━━━━━\u001b[0m\u001b[37m\u001b[0m \u001b[1m11s\u001b[0m 204ms/step - loss: 1.4292e-04\n"
     ]
    },
    {
     "data": {
      "text/plain": [
       "<keras.src.callbacks.history.History at 0x22e226e7ca0>"
      ]
     },
     "execution_count": 78,
     "metadata": {},
     "output_type": "execute_result"
    }
   ],
   "source": [
    "model.compile(optimizer='adam', loss='mean_squared_error')\n",
    "model.fit(x_train, y_train, epochs=50)"
   ]
  },
  {
   "cell_type": "code",
   "execution_count": 79,
   "id": "c5301404-b22e-44c6-b6b7-76c17038c1cc",
   "metadata": {},
   "outputs": [
    {
     "data": {
      "text/html": [
       "<pre style=\"white-space:pre;overflow-x:auto;line-height:normal;font-family:Menlo,'DejaVu Sans Mono',consolas,'Courier New',monospace\"><span style=\"font-weight: bold\">Model: \"sequential_1\"</span>\n",
       "</pre>\n"
      ],
      "text/plain": [
       "\u001b[1mModel: \"sequential_1\"\u001b[0m\n"
      ]
     },
     "metadata": {},
     "output_type": "display_data"
    },
    {
     "data": {
      "text/html": [
       "<pre style=\"white-space:pre;overflow-x:auto;line-height:normal;font-family:Menlo,'DejaVu Sans Mono',consolas,'Courier New',monospace\">┏━━━━━━━━━━━━━━━━━━━━━━━━━━━━━━━━━━━━━━┳━━━━━━━━━━━━━━━━━━━━━━━━━━━━━┳━━━━━━━━━━━━━━━━━┓\n",
       "┃<span style=\"font-weight: bold\"> Layer (type)                         </span>┃<span style=\"font-weight: bold\"> Output Shape                </span>┃<span style=\"font-weight: bold\">         Param # </span>┃\n",
       "┡━━━━━━━━━━━━━━━━━━━━━━━━━━━━━━━━━━━━━━╇━━━━━━━━━━━━━━━━━━━━━━━━━━━━━╇━━━━━━━━━━━━━━━━━┩\n",
       "│ lstm_2 (<span style=\"color: #0087ff; text-decoration-color: #0087ff\">LSTM</span>)                        │ (<span style=\"color: #00d7ff; text-decoration-color: #00d7ff\">None</span>, <span style=\"color: #00af00; text-decoration-color: #00af00\">100</span>, <span style=\"color: #00af00; text-decoration-color: #00af00\">128</span>)            │          <span style=\"color: #00af00; text-decoration-color: #00af00\">66,560</span> │\n",
       "├──────────────────────────────────────┼─────────────────────────────┼─────────────────┤\n",
       "│ lstm_3 (<span style=\"color: #0087ff; text-decoration-color: #0087ff\">LSTM</span>)                        │ (<span style=\"color: #00d7ff; text-decoration-color: #00d7ff\">None</span>, <span style=\"color: #00af00; text-decoration-color: #00af00\">64</span>)                  │          <span style=\"color: #00af00; text-decoration-color: #00af00\">49,408</span> │\n",
       "├──────────────────────────────────────┼─────────────────────────────┼─────────────────┤\n",
       "│ dense_2 (<span style=\"color: #0087ff; text-decoration-color: #0087ff\">Dense</span>)                      │ (<span style=\"color: #00d7ff; text-decoration-color: #00d7ff\">None</span>, <span style=\"color: #00af00; text-decoration-color: #00af00\">25</span>)                  │           <span style=\"color: #00af00; text-decoration-color: #00af00\">1,625</span> │\n",
       "├──────────────────────────────────────┼─────────────────────────────┼─────────────────┤\n",
       "│ dense_3 (<span style=\"color: #0087ff; text-decoration-color: #0087ff\">Dense</span>)                      │ (<span style=\"color: #00d7ff; text-decoration-color: #00d7ff\">None</span>, <span style=\"color: #00af00; text-decoration-color: #00af00\">1</span>)                   │              <span style=\"color: #00af00; text-decoration-color: #00af00\">26</span> │\n",
       "└──────────────────────────────────────┴─────────────────────────────┴─────────────────┘\n",
       "</pre>\n"
      ],
      "text/plain": [
       "┏━━━━━━━━━━━━━━━━━━━━━━━━━━━━━━━━━━━━━━┳━━━━━━━━━━━━━━━━━━━━━━━━━━━━━┳━━━━━━━━━━━━━━━━━┓\n",
       "┃\u001b[1m \u001b[0m\u001b[1mLayer (type)                        \u001b[0m\u001b[1m \u001b[0m┃\u001b[1m \u001b[0m\u001b[1mOutput Shape               \u001b[0m\u001b[1m \u001b[0m┃\u001b[1m \u001b[0m\u001b[1m        Param #\u001b[0m\u001b[1m \u001b[0m┃\n",
       "┡━━━━━━━━━━━━━━━━━━━━━━━━━━━━━━━━━━━━━━╇━━━━━━━━━━━━━━━━━━━━━━━━━━━━━╇━━━━━━━━━━━━━━━━━┩\n",
       "│ lstm_2 (\u001b[38;5;33mLSTM\u001b[0m)                        │ (\u001b[38;5;45mNone\u001b[0m, \u001b[38;5;34m100\u001b[0m, \u001b[38;5;34m128\u001b[0m)            │          \u001b[38;5;34m66,560\u001b[0m │\n",
       "├──────────────────────────────────────┼─────────────────────────────┼─────────────────┤\n",
       "│ lstm_3 (\u001b[38;5;33mLSTM\u001b[0m)                        │ (\u001b[38;5;45mNone\u001b[0m, \u001b[38;5;34m64\u001b[0m)                  │          \u001b[38;5;34m49,408\u001b[0m │\n",
       "├──────────────────────────────────────┼─────────────────────────────┼─────────────────┤\n",
       "│ dense_2 (\u001b[38;5;33mDense\u001b[0m)                      │ (\u001b[38;5;45mNone\u001b[0m, \u001b[38;5;34m25\u001b[0m)                  │           \u001b[38;5;34m1,625\u001b[0m │\n",
       "├──────────────────────────────────────┼─────────────────────────────┼─────────────────┤\n",
       "│ dense_3 (\u001b[38;5;33mDense\u001b[0m)                      │ (\u001b[38;5;45mNone\u001b[0m, \u001b[38;5;34m1\u001b[0m)                   │              \u001b[38;5;34m26\u001b[0m │\n",
       "└──────────────────────────────────────┴─────────────────────────────┴─────────────────┘\n"
      ]
     },
     "metadata": {},
     "output_type": "display_data"
    },
    {
     "data": {
      "text/html": [
       "<pre style=\"white-space:pre;overflow-x:auto;line-height:normal;font-family:Menlo,'DejaVu Sans Mono',consolas,'Courier New',monospace\"><span style=\"font-weight: bold\"> Total params: </span><span style=\"color: #00af00; text-decoration-color: #00af00\">352,859</span> (1.35 MB)\n",
       "</pre>\n"
      ],
      "text/plain": [
       "\u001b[1m Total params: \u001b[0m\u001b[38;5;34m352,859\u001b[0m (1.35 MB)\n"
      ]
     },
     "metadata": {},
     "output_type": "display_data"
    },
    {
     "data": {
      "text/html": [
       "<pre style=\"white-space:pre;overflow-x:auto;line-height:normal;font-family:Menlo,'DejaVu Sans Mono',consolas,'Courier New',monospace\"><span style=\"font-weight: bold\"> Trainable params: </span><span style=\"color: #00af00; text-decoration-color: #00af00\">117,619</span> (459.45 KB)\n",
       "</pre>\n"
      ],
      "text/plain": [
       "\u001b[1m Trainable params: \u001b[0m\u001b[38;5;34m117,619\u001b[0m (459.45 KB)\n"
      ]
     },
     "metadata": {},
     "output_type": "display_data"
    },
    {
     "data": {
      "text/html": [
       "<pre style=\"white-space:pre;overflow-x:auto;line-height:normal;font-family:Menlo,'DejaVu Sans Mono',consolas,'Courier New',monospace\"><span style=\"font-weight: bold\"> Non-trainable params: </span><span style=\"color: #00af00; text-decoration-color: #00af00\">0</span> (0.00 B)\n",
       "</pre>\n"
      ],
      "text/plain": [
       "\u001b[1m Non-trainable params: \u001b[0m\u001b[38;5;34m0\u001b[0m (0.00 B)\n"
      ]
     },
     "metadata": {},
     "output_type": "display_data"
    },
    {
     "data": {
      "text/html": [
       "<pre style=\"white-space:pre;overflow-x:auto;line-height:normal;font-family:Menlo,'DejaVu Sans Mono',consolas,'Courier New',monospace\"><span style=\"font-weight: bold\"> Optimizer params: </span><span style=\"color: #00af00; text-decoration-color: #00af00\">235,240</span> (918.91 KB)\n",
       "</pre>\n"
      ],
      "text/plain": [
       "\u001b[1m Optimizer params: \u001b[0m\u001b[38;5;34m235,240\u001b[0m (918.91 KB)\n"
      ]
     },
     "metadata": {},
     "output_type": "display_data"
    }
   ],
   "source": [
    "model.summary()"
   ]
  },
  {
   "cell_type": "code",
   "execution_count": 80,
   "id": "2f722e5c-9d3a-488c-9570-1ae9d95f2cfc",
   "metadata": {},
   "outputs": [],
   "source": [
    "# Save the trained model\n",
    "model.save('stock_prediction_model.keras')"
   ]
  },
  {
   "cell_type": "code",
   "execution_count": null,
   "id": "a738baac-9d98-451f-abfe-4d797e484f15",
   "metadata": {},
   "outputs": [],
   "source": []
  },
  {
   "cell_type": "markdown",
   "id": "75eeac7a-9e29-4da4-af04-987aca444c14",
   "metadata": {},
   "source": [
    "# 8. Preparing Test Data"
   ]
  },
  {
   "cell_type": "code",
   "execution_count": 81,
   "id": "4ac076e2-5545-4b9e-b236-bc584a5ca9fc",
   "metadata": {},
   "outputs": [
    {
     "data": {
      "text/html": [
       "<div>\n",
       "<style scoped>\n",
       "    .dataframe tbody tr th:only-of-type {\n",
       "        vertical-align: middle;\n",
       "    }\n",
       "\n",
       "    .dataframe tbody tr th {\n",
       "        vertical-align: top;\n",
       "    }\n",
       "\n",
       "    .dataframe thead th {\n",
       "        text-align: right;\n",
       "    }\n",
       "</style>\n",
       "<table border=\"1\" class=\"dataframe\">\n",
       "  <thead>\n",
       "    <tr style=\"text-align: right;\">\n",
       "      <th>Ticker</th>\n",
       "      <th>AAPL</th>\n",
       "    </tr>\n",
       "  </thead>\n",
       "  <tbody>\n",
       "    <tr>\n",
       "      <th>1660</th>\n",
       "      <td>169.419052</td>\n",
       "    </tr>\n",
       "    <tr>\n",
       "      <th>1661</th>\n",
       "      <td>168.701645</td>\n",
       "    </tr>\n",
       "    <tr>\n",
       "      <th>1662</th>\n",
       "      <td>171.817001</td>\n",
       "    </tr>\n",
       "    <tr>\n",
       "      <th>1663</th>\n",
       "      <td>173.242020</td>\n",
       "    </tr>\n",
       "    <tr>\n",
       "      <th>1664</th>\n",
       "      <td>169.153702</td>\n",
       "    </tr>\n",
       "    <tr>\n",
       "      <th>...</th>\n",
       "      <td>...</td>\n",
       "    </tr>\n",
       "    <tr>\n",
       "      <th>1755</th>\n",
       "      <td>136.086716</td>\n",
       "    </tr>\n",
       "    <tr>\n",
       "      <th>1756</th>\n",
       "      <td>139.423187</td>\n",
       "    </tr>\n",
       "    <tr>\n",
       "      <th>1757</th>\n",
       "      <td>139.423187</td>\n",
       "    </tr>\n",
       "    <tr>\n",
       "      <th>1758</th>\n",
       "      <td>135.269821</td>\n",
       "    </tr>\n",
       "    <tr>\n",
       "      <th>1759</th>\n",
       "      <td>137.031555</td>\n",
       "    </tr>\n",
       "  </tbody>\n",
       "</table>\n",
       "<p>100 rows × 1 columns</p>\n",
       "</div>"
      ],
      "text/plain": [
       "Ticker        AAPL\n",
       "1660    169.419052\n",
       "1661    168.701645\n",
       "1662    171.817001\n",
       "1663    173.242020\n",
       "1664    169.153702\n",
       "...            ...\n",
       "1755    136.086716\n",
       "1756    139.423187\n",
       "1757    139.423187\n",
       "1758    135.269821\n",
       "1759    137.031555\n",
       "\n",
       "[100 rows x 1 columns]"
      ]
     },
     "execution_count": 81,
     "metadata": {},
     "output_type": "execute_result"
    }
   ],
   "source": [
    "data_training.tail(100)"
   ]
  },
  {
   "cell_type": "code",
   "execution_count": 82,
   "id": "93596586-ece5-4b78-b318-ef6714d305fc",
   "metadata": {},
   "outputs": [
    {
     "data": {
      "text/html": [
       "<div>\n",
       "<style scoped>\n",
       "    .dataframe tbody tr th:only-of-type {\n",
       "        vertical-align: middle;\n",
       "    }\n",
       "\n",
       "    .dataframe tbody tr th {\n",
       "        vertical-align: top;\n",
       "    }\n",
       "\n",
       "    .dataframe thead th {\n",
       "        text-align: right;\n",
       "    }\n",
       "</style>\n",
       "<table border=\"1\" class=\"dataframe\">\n",
       "  <thead>\n",
       "    <tr style=\"text-align: right;\">\n",
       "      <th>Ticker</th>\n",
       "      <th>AAPL</th>\n",
       "    </tr>\n",
       "  </thead>\n",
       "  <tbody>\n",
       "    <tr>\n",
       "      <th>1760</th>\n",
       "      <td>134.561203</td>\n",
       "    </tr>\n",
       "    <tr>\n",
       "      <th>1761</th>\n",
       "      <td>136.736298</td>\n",
       "    </tr>\n",
       "    <tr>\n",
       "      <th>1762</th>\n",
       "      <td>139.324738</td>\n",
       "    </tr>\n",
       "    <tr>\n",
       "      <th>1763</th>\n",
       "      <td>140.663315</td>\n",
       "    </tr>\n",
       "    <tr>\n",
       "      <th>1764</th>\n",
       "      <td>144.039154</td>\n",
       "    </tr>\n",
       "    <tr>\n",
       "      <th>...</th>\n",
       "      <td>...</td>\n",
       "    </tr>\n",
       "    <tr>\n",
       "      <th>2510</th>\n",
       "      <td>201.080002</td>\n",
       "    </tr>\n",
       "    <tr>\n",
       "      <th>2511</th>\n",
       "      <td>205.169998</td>\n",
       "    </tr>\n",
       "    <tr>\n",
       "      <th>2512</th>\n",
       "      <td>207.820007</td>\n",
       "    </tr>\n",
       "    <tr>\n",
       "      <th>2513</th>\n",
       "      <td>212.440002</td>\n",
       "    </tr>\n",
       "    <tr>\n",
       "      <th>2514</th>\n",
       "      <td>213.266205</td>\n",
       "    </tr>\n",
       "  </tbody>\n",
       "</table>\n",
       "<p>755 rows × 1 columns</p>\n",
       "</div>"
      ],
      "text/plain": [
       "Ticker        AAPL\n",
       "1760    134.561203\n",
       "1761    136.736298\n",
       "1762    139.324738\n",
       "1763    140.663315\n",
       "1764    144.039154\n",
       "...            ...\n",
       "2510    201.080002\n",
       "2511    205.169998\n",
       "2512    207.820007\n",
       "2513    212.440002\n",
       "2514    213.266205\n",
       "\n",
       "[755 rows x 1 columns]"
      ]
     },
     "execution_count": 82,
     "metadata": {},
     "output_type": "execute_result"
    }
   ],
   "source": [
    "data_testing"
   ]
  },
  {
   "cell_type": "code",
   "execution_count": 83,
   "id": "1c51c47d-6f0b-4954-87da-9dd0a0b51e74",
   "metadata": {},
   "outputs": [],
   "source": [
    "past_100_days = data_training.tail(100)"
   ]
  },
  {
   "cell_type": "code",
   "execution_count": 84,
   "id": "cbd88b07-927c-4d69-adff-941bb12a004a",
   "metadata": {},
   "outputs": [
    {
     "data": {
      "text/html": [
       "<div>\n",
       "<style scoped>\n",
       "    .dataframe tbody tr th:only-of-type {\n",
       "        vertical-align: middle;\n",
       "    }\n",
       "\n",
       "    .dataframe tbody tr th {\n",
       "        vertical-align: top;\n",
       "    }\n",
       "\n",
       "    .dataframe thead th {\n",
       "        text-align: right;\n",
       "    }\n",
       "</style>\n",
       "<table border=\"1\" class=\"dataframe\">\n",
       "  <thead>\n",
       "    <tr style=\"text-align: right;\">\n",
       "      <th>Ticker</th>\n",
       "      <th>AAPL</th>\n",
       "    </tr>\n",
       "  </thead>\n",
       "  <tbody>\n",
       "    <tr>\n",
       "      <th>1660</th>\n",
       "      <td>169.419052</td>\n",
       "    </tr>\n",
       "    <tr>\n",
       "      <th>1661</th>\n",
       "      <td>168.701645</td>\n",
       "    </tr>\n",
       "    <tr>\n",
       "      <th>1662</th>\n",
       "      <td>171.817001</td>\n",
       "    </tr>\n",
       "    <tr>\n",
       "      <th>1663</th>\n",
       "      <td>173.242020</td>\n",
       "    </tr>\n",
       "    <tr>\n",
       "      <th>1664</th>\n",
       "      <td>169.153702</td>\n",
       "    </tr>\n",
       "    <tr>\n",
       "      <th>...</th>\n",
       "      <td>...</td>\n",
       "    </tr>\n",
       "    <tr>\n",
       "      <th>1755</th>\n",
       "      <td>136.086716</td>\n",
       "    </tr>\n",
       "    <tr>\n",
       "      <th>1756</th>\n",
       "      <td>139.423187</td>\n",
       "    </tr>\n",
       "    <tr>\n",
       "      <th>1757</th>\n",
       "      <td>139.423187</td>\n",
       "    </tr>\n",
       "    <tr>\n",
       "      <th>1758</th>\n",
       "      <td>135.269821</td>\n",
       "    </tr>\n",
       "    <tr>\n",
       "      <th>1759</th>\n",
       "      <td>137.031555</td>\n",
       "    </tr>\n",
       "  </tbody>\n",
       "</table>\n",
       "<p>100 rows × 1 columns</p>\n",
       "</div>"
      ],
      "text/plain": [
       "Ticker        AAPL\n",
       "1660    169.419052\n",
       "1661    168.701645\n",
       "1662    171.817001\n",
       "1663    173.242020\n",
       "1664    169.153702\n",
       "...            ...\n",
       "1755    136.086716\n",
       "1756    139.423187\n",
       "1757    139.423187\n",
       "1758    135.269821\n",
       "1759    137.031555\n",
       "\n",
       "[100 rows x 1 columns]"
      ]
     },
     "execution_count": 84,
     "metadata": {},
     "output_type": "execute_result"
    }
   ],
   "source": [
    "past_100_days"
   ]
  },
  {
   "cell_type": "code",
   "execution_count": 85,
   "id": "c32a8da1-b3b8-4790-a825-938e7e449fff",
   "metadata": {},
   "outputs": [
    {
     "data": {
      "text/html": [
       "<div>\n",
       "<style scoped>\n",
       "    .dataframe tbody tr th:only-of-type {\n",
       "        vertical-align: middle;\n",
       "    }\n",
       "\n",
       "    .dataframe tbody tr th {\n",
       "        vertical-align: top;\n",
       "    }\n",
       "\n",
       "    .dataframe thead th {\n",
       "        text-align: right;\n",
       "    }\n",
       "</style>\n",
       "<table border=\"1\" class=\"dataframe\">\n",
       "  <thead>\n",
       "    <tr style=\"text-align: right;\">\n",
       "      <th>Ticker</th>\n",
       "      <th>AAPL</th>\n",
       "    </tr>\n",
       "  </thead>\n",
       "  <tbody>\n",
       "    <tr>\n",
       "      <th>0</th>\n",
       "      <td>169.419052</td>\n",
       "    </tr>\n",
       "    <tr>\n",
       "      <th>1</th>\n",
       "      <td>168.701645</td>\n",
       "    </tr>\n",
       "    <tr>\n",
       "      <th>2</th>\n",
       "      <td>171.817001</td>\n",
       "    </tr>\n",
       "    <tr>\n",
       "      <th>3</th>\n",
       "      <td>173.242020</td>\n",
       "    </tr>\n",
       "    <tr>\n",
       "      <th>4</th>\n",
       "      <td>169.153702</td>\n",
       "    </tr>\n",
       "    <tr>\n",
       "      <th>...</th>\n",
       "      <td>...</td>\n",
       "    </tr>\n",
       "    <tr>\n",
       "      <th>850</th>\n",
       "      <td>201.080002</td>\n",
       "    </tr>\n",
       "    <tr>\n",
       "      <th>851</th>\n",
       "      <td>205.169998</td>\n",
       "    </tr>\n",
       "    <tr>\n",
       "      <th>852</th>\n",
       "      <td>207.820007</td>\n",
       "    </tr>\n",
       "    <tr>\n",
       "      <th>853</th>\n",
       "      <td>212.440002</td>\n",
       "    </tr>\n",
       "    <tr>\n",
       "      <th>854</th>\n",
       "      <td>213.266205</td>\n",
       "    </tr>\n",
       "  </tbody>\n",
       "</table>\n",
       "<p>855 rows × 1 columns</p>\n",
       "</div>"
      ],
      "text/plain": [
       "Ticker        AAPL\n",
       "0       169.419052\n",
       "1       168.701645\n",
       "2       171.817001\n",
       "3       173.242020\n",
       "4       169.153702\n",
       "..             ...\n",
       "850     201.080002\n",
       "851     205.169998\n",
       "852     207.820007\n",
       "853     212.440002\n",
       "854     213.266205\n",
       "\n",
       "[855 rows x 1 columns]"
      ]
     },
     "execution_count": 85,
     "metadata": {},
     "output_type": "execute_result"
    }
   ],
   "source": [
    "final_df = pd.concat([past_100_days, data_testing], ignore_index=True)\n",
    "final_df"
   ]
  },
  {
   "cell_type": "code",
   "execution_count": 86,
   "id": "065c697f-0892-4cc9-8965-657381482e85",
   "metadata": {},
   "outputs": [],
   "source": [
    "input_data = scaler.fit_transform(final_df)\n",
    "# input_data"
   ]
  },
  {
   "cell_type": "code",
   "execution_count": 87,
   "id": "5f807bba-ceb7-440b-b610-0c01a4bfecf5",
   "metadata": {},
   "outputs": [
    {
     "data": {
      "text/plain": [
       "(855, 1)"
      ]
     },
     "execution_count": 87,
     "metadata": {},
     "output_type": "execute_result"
    }
   ],
   "source": [
    "input_data.shape"
   ]
  },
  {
   "cell_type": "code",
   "execution_count": 88,
   "id": "a8a7a82a-2247-48f4-8238-cdd13128d509",
   "metadata": {},
   "outputs": [],
   "source": [
    "x_test = []\n",
    "y_test = []\n",
    "\n",
    "for i in range(100, input_data.shape[0]):\n",
    "    x_test.append(input_data[i-100: i])\n",
    "    y_test.append(input_data[i, 0])"
   ]
  },
  {
   "cell_type": "code",
   "execution_count": 89,
   "id": "24e093a0-c0dd-4117-82d5-8aee77040d6e",
   "metadata": {},
   "outputs": [],
   "source": [
    "x_test, y_test = np.array(x_test), np.array(y_test)"
   ]
  },
  {
   "cell_type": "code",
   "execution_count": 90,
   "id": "cbce9d30-38b4-48be-bc84-5992157380b5",
   "metadata": {},
   "outputs": [
    {
     "data": {
      "text/plain": [
       "(100, 1)"
      ]
     },
     "execution_count": 90,
     "metadata": {},
     "output_type": "execute_result"
    }
   ],
   "source": [
    "x_test[0].shape"
   ]
  },
  {
   "cell_type": "code",
   "execution_count": 91,
   "id": "969bb9aa-443d-47af-9c40-ddb8f57a56c3",
   "metadata": {},
   "outputs": [
    {
     "data": {
      "text/plain": [
       "array([[[0.34078648],\n",
       "        [0.33547138],\n",
       "        [0.3585523 ],\n",
       "        ...,\n",
       "        [0.11855441],\n",
       "        [0.08778313],\n",
       "        [0.10083539]],\n",
       "\n",
       "       [[0.33547138],\n",
       "        [0.3585523 ],\n",
       "        [0.36910992],\n",
       "        ...,\n",
       "        [0.08778313],\n",
       "        [0.10083539],\n",
       "        [0.08253315]],\n",
       "\n",
       "       [[0.3585523 ],\n",
       "        [0.36910992],\n",
       "        [0.33882056],\n",
       "        ...,\n",
       "        [0.10083539],\n",
       "        [0.08253315],\n",
       "        [0.0986479 ]],\n",
       "\n",
       "       ...,\n",
       "\n",
       "       [[0.80377093],\n",
       "        [0.80931416],\n",
       "        [0.76799883],\n",
       "        ...,\n",
       "        [0.57476205],\n",
       "        [0.57535476],\n",
       "        [0.60565655]],\n",
       "\n",
       "       [[0.80931416],\n",
       "        [0.76799883],\n",
       "        [0.76999651],\n",
       "        ...,\n",
       "        [0.57535476],\n",
       "        [0.60565655],\n",
       "        [0.62528982]],\n",
       "\n",
       "       [[0.76799883],\n",
       "        [0.76999651],\n",
       "        [0.80676988],\n",
       "        ...,\n",
       "        [0.60565655],\n",
       "        [0.62528982],\n",
       "        [0.65951824]]])"
      ]
     },
     "execution_count": 91,
     "metadata": {},
     "output_type": "execute_result"
    }
   ],
   "source": [
    "x_test"
   ]
  },
  {
   "cell_type": "markdown",
   "id": "c6ecff8c-3802-407b-a8bf-6634bbcf79c1",
   "metadata": {},
   "source": [
    "# 9. Making Predictions"
   ]
  },
  {
   "cell_type": "code",
   "execution_count": 92,
   "id": "dcd435d0-4782-4f29-960e-466148a6421a",
   "metadata": {},
   "outputs": [
    {
     "name": "stdout",
     "output_type": "stream",
     "text": [
      "\u001b[1m24/24\u001b[0m \u001b[32m━━━━━━━━━━━━━━━━━━━━\u001b[0m\u001b[37m\u001b[0m \u001b[1m2s\u001b[0m 80ms/step  \n"
     ]
    }
   ],
   "source": [
    "y_predicted = model.predict(x_test)"
   ]
  },
  {
   "cell_type": "code",
   "execution_count": 93,
   "id": "c85420bc-2ca8-4c4f-989d-8168430e9280",
   "metadata": {},
   "outputs": [],
   "source": [
    "# y_predicted"
   ]
  },
  {
   "cell_type": "code",
   "execution_count": 94,
   "id": "c1776042-cb38-4685-8a3e-203427bd1868",
   "metadata": {},
   "outputs": [],
   "source": [
    "# y_test"
   ]
  },
  {
   "cell_type": "code",
   "execution_count": null,
   "id": "0dd9a941-451c-4f05-aa3a-79be46cb4af3",
   "metadata": {},
   "outputs": [],
   "source": []
  },
  {
   "cell_type": "code",
   "execution_count": 95,
   "id": "4d4f399f-159e-4e2f-b4e2-62cc7d6bcdda",
   "metadata": {},
   "outputs": [],
   "source": [
    "y_predicted = scaler.inverse_transform(y_predicted.reshape(-1, 1)).flatten()\n",
    "y_test = scaler.inverse_transform(y_test.reshape(-1, 1)).flatten()"
   ]
  },
  {
   "cell_type": "code",
   "execution_count": 96,
   "id": "2496a397-6551-45b0-b065-067b866550c9",
   "metadata": {},
   "outputs": [],
   "source": [
    "# y_predicted"
   ]
  },
  {
   "cell_type": "code",
   "execution_count": 97,
   "id": "9adfe89c-6117-4567-a86b-933d89b065e9",
   "metadata": {},
   "outputs": [],
   "source": [
    "# y_test"
   ]
  },
  {
   "cell_type": "code",
   "execution_count": 98,
   "id": "7f8682cb-f347-49ba-abda-23d701851081",
   "metadata": {},
   "outputs": [
    {
     "data": {
      "text/plain": [
       "<matplotlib.legend.Legend at 0x22e2bb57bb0>"
      ]
     },
     "execution_count": 98,
     "metadata": {},
     "output_type": "execute_result"
    },
    {
     "data": {
      "image/png": "[encoded data removed]",
      "text/plain": [
       "<Figure size 1200x600 with 1 Axes>"
      ]
     },
     "metadata": {},
     "output_type": "display_data"
    }
   ],
   "source": [
    "plt.figure(figsize=(12, 6))\n",
    "plt.plot(y_test, 'b', label='Original Price')\n",
    "plt.plot(y_predicted, 'r', label='Predicted Price')\n",
    "plt.xlabel('Days')\n",
    "plt.ylabel('Price')\n",
    "plt.legend()"
   ]
  },
  {
   "cell_type": "code",
   "execution_count": 100,
   "id": "78f7f7cc-de40-4e0a-8126-8f4afbb2f03c",
   "metadata": {},
   "outputs": [
    {
     "data": {
      "text/plain": [
       "(140.0, 260.0)"
      ]
     },
     "execution_count": 100,
     "metadata": {},
     "output_type": "execute_result"
    },
    {
     "data": {
      "image/png": "[encoded data removed]",
      "text/plain": [
       "<Figure size 1200x600 with 1 Axes>"
      ]
     },
     "metadata": {},
     "output_type": "display_data"
    }
   ],
   "source": [
    "plt.figure(figsize=(12, 6))\n",
    "plt.plot(y_test, 'b', label='Original Price')\n",
    "plt.plot(y_predicted, 'r', label='Predicted Price')\n",
    "plt.xlabel('Days')\n",
    "plt.ylabel('Price')\n",
    "plt.legend()\n",
    "plt.xlim(450, 750)\n",
    "plt.ylim(140, 260)"
   ]
  },
  {
   "cell_type": "code",
   "execution_count": null,
   "id": "e7f14159-8716-418f-9218-4a243ed71a72",
   "metadata": {},
   "outputs": [],
   "source": []
  },
  {
   "cell_type": "markdown",
   "id": "8dc062ee-3f2c-4731-b8ff-fcf2d523c705",
   "metadata": {},
   "source": [
    "# 10. Model Evaluation"
   ]
  },
  {
   "cell_type": "code",
   "execution_count": 101,
   "id": "9ce27081-2fca-4377-9f4d-2403ffe34dc6",
   "metadata": {},
   "outputs": [],
   "source": [
    "# Mean Squared Error (MSE)\n",
    "from sklearn.metrics import mean_squared_error, r2_score"
   ]
  },
  {
   "cell_type": "code",
   "execution_count": 102,
   "id": "124f817e-9c29-4ff5-91a6-6f0d0a3f0e59",
   "metadata": {},
   "outputs": [
    {
     "name": "stdout",
     "output_type": "stream",
     "text": [
      "Mean Squared Error (MSE): 13.428730437583567\n"
     ]
    }
   ],
   "source": [
    "mse = mean_squared_error(y_test, y_predicted)\n",
    "print(f\"Mean Squared Error (MSE): {mse}\")"
   ]
  },
  {
   "cell_type": "code",
   "execution_count": null,
   "id": "49db13d4-6209-48b4-91bc-2673c0260402",
   "metadata": {},
   "outputs": [],
   "source": []
  },
  {
   "cell_type": "code",
   "execution_count": 103,
   "id": "0a2a9416-033d-44c5-81bb-547c6941842e",
   "metadata": {},
   "outputs": [
    {
     "name": "stdout",
     "output_type": "stream",
     "text": [
      "Root Mean Squared Error (RMSE): 3.664523221045757\n"
     ]
    }
   ],
   "source": [
    "# Root Mean Squared Error (RMSE)\n",
    "rmse = np.sqrt(mse)\n",
    "print(f\"Root Mean Squared Error (RMSE): {rmse}\")"
   ]
  },
  {
   "cell_type": "code",
   "execution_count": null,
   "id": "71a22243-9e2c-43c0-b520-1af0e548daef",
   "metadata": {},
   "outputs": [],
   "source": []
  },
  {
   "cell_type": "code",
   "execution_count": 104,
   "id": "2f6c3d43-58c5-449f-9af8-52c0aba67a9a",
   "metadata": {},
   "outputs": [
    {
     "name": "stdout",
     "output_type": "stream",
     "text": [
      "R-Squared: 0.9865392106241775\n"
     ]
    }
   ],
   "source": [
    "# R-Squared\n",
    "r2 = r2_score(y_test, y_predicted)\n",
    "print(f\"R-Squared: {r2}\")"
   ]
  },
  {
   "cell_type": "code",
   "execution_count": null,
   "id": "c7c075d2-ab4c-4788-9053-ed2ee8ebed26",
   "metadata": {},
   "outputs": [],
   "source": []
  }
 ],
 "metadata": {
  "kernelspec": {
   "display_name": "Python 3 (ipykernel)",
   "language": "python",
   "name": "python3"
  },
  "language_info": {
   "codemirror_mode": {
    "name": "ipython",
    "version": 3
   },
   "file_extension": ".py",
   "mimetype": "text/x-python",
   "name": "python",
   "nbconvert_exporter": "python",
   "pygments_lexer": "ipython3",
   "version": "3.10.18"
  }
 },
 "nbformat": 4,
 "nbformat_minor": 5
}
